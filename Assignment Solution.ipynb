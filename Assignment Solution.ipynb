{
 "cells": [
  {
   "cell_type": "code",
   "execution_count": 51,
   "id": "6b9719cf",
   "metadata": {},
   "outputs": [],
   "source": [
    "import pandas as pd"
   ]
  },
  {
   "cell_type": "code",
   "execution_count": 52,
   "id": "30d8614b",
   "metadata": {},
   "outputs": [],
   "source": [
    "order_report=pd.read_excel(\"Company X - Order Report.xlsx\")\n",
    "pincode     =pd.read_excel(\"Company X - Pincode Zones.xlsx\")\n",
    "sku         =pd.read_excel(\"Company X - SKU Master.xlsx\")\n",
    "invoice     =pd.read_excel(\"Courier Company - Invoice.xlsx\")\n",
    "rate        =pd.read_excel(\"Courier Company - Rates.xlsx\")"
   ]
  },
  {
   "cell_type": "markdown",
   "id": "2e27ef0c",
   "metadata": {},
   "source": [
    "## Company X Order Report Processing"
   ]
  },
  {
   "cell_type": "code",
   "execution_count": 53,
   "id": "ddef0891",
   "metadata": {},
   "outputs": [
    {
     "data": {
      "text/html": [
       "<div>\n",
       "<style scoped>\n",
       "    .dataframe tbody tr th:only-of-type {\n",
       "        vertical-align: middle;\n",
       "    }\n",
       "\n",
       "    .dataframe tbody tr th {\n",
       "        vertical-align: top;\n",
       "    }\n",
       "\n",
       "    .dataframe thead th {\n",
       "        text-align: right;\n",
       "    }\n",
       "</style>\n",
       "<table border=\"1\" class=\"dataframe\">\n",
       "  <thead>\n",
       "    <tr style=\"text-align: right;\">\n",
       "      <th></th>\n",
       "      <th>ExternOrderNo</th>\n",
       "      <th>SKU</th>\n",
       "      <th>Order Qty</th>\n",
       "    </tr>\n",
       "  </thead>\n",
       "  <tbody>\n",
       "    <tr>\n",
       "      <th>0</th>\n",
       "      <td>2001827036</td>\n",
       "      <td>8904223818706</td>\n",
       "      <td>1.0</td>\n",
       "    </tr>\n",
       "    <tr>\n",
       "      <th>1</th>\n",
       "      <td>2001827036</td>\n",
       "      <td>8904223819093</td>\n",
       "      <td>1.0</td>\n",
       "    </tr>\n",
       "    <tr>\n",
       "      <th>2</th>\n",
       "      <td>2001827036</td>\n",
       "      <td>8904223819109</td>\n",
       "      <td>1.0</td>\n",
       "    </tr>\n",
       "    <tr>\n",
       "      <th>3</th>\n",
       "      <td>2001827036</td>\n",
       "      <td>8904223818430</td>\n",
       "      <td>1.0</td>\n",
       "    </tr>\n",
       "    <tr>\n",
       "      <th>4</th>\n",
       "      <td>2001827036</td>\n",
       "      <td>8904223819277</td>\n",
       "      <td>1.0</td>\n",
       "    </tr>\n",
       "  </tbody>\n",
       "</table>\n",
       "</div>"
      ],
      "text/plain": [
       "   ExternOrderNo            SKU  Order Qty\n",
       "0     2001827036  8904223818706        1.0\n",
       "1     2001827036  8904223819093        1.0\n",
       "2     2001827036  8904223819109        1.0\n",
       "3     2001827036  8904223818430        1.0\n",
       "4     2001827036  8904223819277        1.0"
      ]
     },
     "execution_count": 53,
     "metadata": {},
     "output_type": "execute_result"
    }
   ],
   "source": [
    "order_report.head()"
   ]
  },
  {
   "cell_type": "markdown",
   "id": "c025f481",
   "metadata": {},
   "source": [
    "##### Check for Datatypes"
   ]
  },
  {
   "cell_type": "code",
   "execution_count": 54,
   "id": "d752d669",
   "metadata": {},
   "outputs": [
    {
     "data": {
      "text/plain": [
       "ExternOrderNo      int64\n",
       "SKU               object\n",
       "Order Qty        float64\n",
       "dtype: object"
      ]
     },
     "execution_count": 54,
     "metadata": {},
     "output_type": "execute_result"
    }
   ],
   "source": [
    "order_report.dtypes"
   ]
  },
  {
   "cell_type": "markdown",
   "id": "1c9afd31",
   "metadata": {},
   "source": [
    "##### Check for null values"
   ]
  },
  {
   "cell_type": "code",
   "execution_count": 55,
   "id": "a1416de2",
   "metadata": {},
   "outputs": [
    {
     "data": {
      "text/plain": [
       "ExternOrderNo    0\n",
       "SKU              0\n",
       "Order Qty        0\n",
       "dtype: int64"
      ]
     },
     "execution_count": 55,
     "metadata": {},
     "output_type": "execute_result"
    }
   ],
   "source": [
    "order_report.isna().sum()"
   ]
  },
  {
   "cell_type": "markdown",
   "id": "49c5c79a",
   "metadata": {},
   "source": [
    "##### Check for Duplicates entire dataframe"
   ]
  },
  {
   "cell_type": "code",
   "execution_count": 56,
   "id": "9324edb4",
   "metadata": {},
   "outputs": [
    {
     "name": "stdout",
     "output_type": "stream",
     "text": [
      "Shape of 'Comapny X Order Report' Before Pre-Processing : (400, 3)\n",
      "Shape of 'Company X Order Report' After removing duplicates: (398, 3)\n",
      "\n",
      "There were 2 duplicates present in order report\n"
     ]
    }
   ],
   "source": [
    "print(\"Shape of 'Comapny X Order Report' Before Pre-Processing :\",order_report.shape)\n",
    "s=order_report.shape[0]\n",
    "order_report.drop_duplicates(inplace=True)\n",
    "t=order_report.shape[0]\n",
    "print(\"Shape of 'Company X Order Report' After removing duplicates:\",order_report.shape)\n",
    "print(f'\\nThere were {s-t} duplicates present in order report')"
   ]
  },
  {
   "cell_type": "markdown",
   "id": "e1a086f4",
   "metadata": {},
   "source": [
    "## Company X SKU(Stock keeping unit) Processing"
   ]
  },
  {
   "cell_type": "code",
   "execution_count": 57,
   "id": "444c96d4",
   "metadata": {},
   "outputs": [
    {
     "data": {
      "text/html": [
       "<div>\n",
       "<style scoped>\n",
       "    .dataframe tbody tr th:only-of-type {\n",
       "        vertical-align: middle;\n",
       "    }\n",
       "\n",
       "    .dataframe tbody tr th {\n",
       "        vertical-align: top;\n",
       "    }\n",
       "\n",
       "    .dataframe thead th {\n",
       "        text-align: right;\n",
       "    }\n",
       "</style>\n",
       "<table border=\"1\" class=\"dataframe\">\n",
       "  <thead>\n",
       "    <tr style=\"text-align: right;\">\n",
       "      <th></th>\n",
       "      <th>SKU</th>\n",
       "      <th>Weight (g)</th>\n",
       "    </tr>\n",
       "  </thead>\n",
       "  <tbody>\n",
       "    <tr>\n",
       "      <th>0</th>\n",
       "      <td>8904223815682</td>\n",
       "      <td>210</td>\n",
       "    </tr>\n",
       "    <tr>\n",
       "      <th>1</th>\n",
       "      <td>8904223815859</td>\n",
       "      <td>165</td>\n",
       "    </tr>\n",
       "    <tr>\n",
       "      <th>2</th>\n",
       "      <td>8904223815866</td>\n",
       "      <td>113</td>\n",
       "    </tr>\n",
       "    <tr>\n",
       "      <th>3</th>\n",
       "      <td>8904223815873</td>\n",
       "      <td>65</td>\n",
       "    </tr>\n",
       "    <tr>\n",
       "      <th>4</th>\n",
       "      <td>8904223816214</td>\n",
       "      <td>120</td>\n",
       "    </tr>\n",
       "  </tbody>\n",
       "</table>\n",
       "</div>"
      ],
      "text/plain": [
       "             SKU  Weight (g)\n",
       "0  8904223815682         210\n",
       "1  8904223815859         165\n",
       "2  8904223815866         113\n",
       "3  8904223815873          65\n",
       "4  8904223816214         120"
      ]
     },
     "execution_count": 57,
     "metadata": {},
     "output_type": "execute_result"
    }
   ],
   "source": [
    "sku.head()"
   ]
  },
  {
   "cell_type": "markdown",
   "id": "126a3f26",
   "metadata": {},
   "source": [
    "##### Check for Datatypes"
   ]
  },
  {
   "cell_type": "code",
   "execution_count": 58,
   "id": "261f57be",
   "metadata": {},
   "outputs": [
    {
     "data": {
      "text/plain": [
       "SKU           object\n",
       "Weight (g)     int64\n",
       "dtype: object"
      ]
     },
     "execution_count": 58,
     "metadata": {},
     "output_type": "execute_result"
    }
   ],
   "source": [
    "sku.dtypes"
   ]
  },
  {
   "cell_type": "markdown",
   "id": "6527d2bc",
   "metadata": {},
   "source": [
    "##### Check for null values"
   ]
  },
  {
   "cell_type": "code",
   "execution_count": 59,
   "id": "160491e3",
   "metadata": {},
   "outputs": [
    {
     "data": {
      "text/plain": [
       "SKU           0\n",
       "Weight (g)    0\n",
       "dtype: int64"
      ]
     },
     "execution_count": 59,
     "metadata": {},
     "output_type": "execute_result"
    }
   ],
   "source": [
    "sku.isna().sum()"
   ]
  },
  {
   "cell_type": "markdown",
   "id": "eb0a6664",
   "metadata": {},
   "source": [
    "##### Check for Duplicates entire dataframe"
   ]
  },
  {
   "cell_type": "code",
   "execution_count": 60,
   "id": "a4b14730",
   "metadata": {},
   "outputs": [
    {
     "name": "stdout",
     "output_type": "stream",
     "text": [
      "Shape of 'Comapny X SKU master' Before Pre-Processing : (66, 2)\n",
      "Shape of 'Company X SKU master' After removing duplicates: (65, 2)\n",
      "\n",
      "There were 1 duplicates present in SKU\n"
     ]
    }
   ],
   "source": [
    "print(\"Shape of 'Comapny X SKU master' Before Pre-Processing :\",sku.shape)\n",
    "s=sku.shape[0]\n",
    "sku.drop_duplicates(inplace=True)\n",
    "t=sku.shape[0]\n",
    "print(\"Shape of 'Company X SKU master' After removing duplicates:\",sku.shape)\n",
    "print(f'\\nThere were {s-t} duplicates present in SKU')"
   ]
  },
  {
   "cell_type": "markdown",
   "id": "06db9842",
   "metadata": {},
   "source": [
    "##### Check for Potential duplicates in Stock item(SKU)"
   ]
  },
  {
   "cell_type": "code",
   "execution_count": 61,
   "id": "2008fead",
   "metadata": {},
   "outputs": [
    {
     "name": "stdout",
     "output_type": "stream",
     "text": [
      "There are 0 duplicates in SKU \n",
      "All Items has unique SKU number\n"
     ]
    }
   ],
   "source": [
    "duplicates = sku['SKU'].duplicated().sum()\n",
    "if duplicates==0:\n",
    "    print(f'There are {duplicates} duplicates in SKU ')\n",
    "    print(\"All Items has unique SKU number\")\n",
    "else:\n",
    "    print(f'There are {duplicates} duplicates in SKU ')\n",
    "    print(\"If Same Item (SKU) has different weight, it results in ambiguity\\n Sort out this issue\")"
   ]
  },
  {
   "cell_type": "markdown",
   "id": "29100b17",
   "metadata": {},
   "source": [
    "## Calculating Total weight of Each Order"
   ]
  },
  {
   "cell_type": "markdown",
   "id": "19492cb3",
   "metadata": {},
   "source": [
    "##### Merging 'Order Report' and 'sku' "
   ]
  },
  {
   "cell_type": "code",
   "execution_count": 62,
   "id": "b44438dc",
   "metadata": {},
   "outputs": [
    {
     "data": {
      "text/html": [
       "<div>\n",
       "<style scoped>\n",
       "    .dataframe tbody tr th:only-of-type {\n",
       "        vertical-align: middle;\n",
       "    }\n",
       "\n",
       "    .dataframe tbody tr th {\n",
       "        vertical-align: top;\n",
       "    }\n",
       "\n",
       "    .dataframe thead th {\n",
       "        text-align: right;\n",
       "    }\n",
       "</style>\n",
       "<table border=\"1\" class=\"dataframe\">\n",
       "  <thead>\n",
       "    <tr style=\"text-align: right;\">\n",
       "      <th></th>\n",
       "      <th>ExternOrderNo</th>\n",
       "      <th>SKU</th>\n",
       "      <th>Order Qty</th>\n",
       "      <th>Weight (g)</th>\n",
       "    </tr>\n",
       "  </thead>\n",
       "  <tbody>\n",
       "    <tr>\n",
       "      <th>0</th>\n",
       "      <td>2001827036</td>\n",
       "      <td>8904223818706</td>\n",
       "      <td>1.0</td>\n",
       "      <td>127</td>\n",
       "    </tr>\n",
       "    <tr>\n",
       "      <th>1</th>\n",
       "      <td>2001821995</td>\n",
       "      <td>8904223818706</td>\n",
       "      <td>1.0</td>\n",
       "      <td>127</td>\n",
       "    </tr>\n",
       "    <tr>\n",
       "      <th>2</th>\n",
       "      <td>2001819252</td>\n",
       "      <td>8904223818706</td>\n",
       "      <td>1.0</td>\n",
       "      <td>127</td>\n",
       "    </tr>\n",
       "    <tr>\n",
       "      <th>3</th>\n",
       "      <td>2001816996</td>\n",
       "      <td>8904223818706</td>\n",
       "      <td>1.0</td>\n",
       "      <td>127</td>\n",
       "    </tr>\n",
       "    <tr>\n",
       "      <th>4</th>\n",
       "      <td>2001814580</td>\n",
       "      <td>8904223818706</td>\n",
       "      <td>1.0</td>\n",
       "      <td>127</td>\n",
       "    </tr>\n",
       "  </tbody>\n",
       "</table>\n",
       "</div>"
      ],
      "text/plain": [
       "   ExternOrderNo            SKU  Order Qty  Weight (g)\n",
       "0     2001827036  8904223818706        1.0         127\n",
       "1     2001821995  8904223818706        1.0         127\n",
       "2     2001819252  8904223818706        1.0         127\n",
       "3     2001816996  8904223818706        1.0         127\n",
       "4     2001814580  8904223818706        1.0         127"
      ]
     },
     "execution_count": 62,
     "metadata": {},
     "output_type": "execute_result"
    }
   ],
   "source": [
    "Order_Report_Weight=pd.merge(order_report, sku, on='SKU')\n",
    "Order_Report_Weight.head()"
   ]
  },
  {
   "cell_type": "markdown",
   "id": "117a8c5e",
   "metadata": {},
   "source": [
    "##### Calculating Total wight of each product in each order of Order Report "
   ]
  },
  {
   "cell_type": "code",
   "execution_count": 63,
   "id": "925d4629",
   "metadata": {},
   "outputs": [
    {
     "data": {
      "text/html": [
       "<div>\n",
       "<style scoped>\n",
       "    .dataframe tbody tr th:only-of-type {\n",
       "        vertical-align: middle;\n",
       "    }\n",
       "\n",
       "    .dataframe tbody tr th {\n",
       "        vertical-align: top;\n",
       "    }\n",
       "\n",
       "    .dataframe thead th {\n",
       "        text-align: right;\n",
       "    }\n",
       "</style>\n",
       "<table border=\"1\" class=\"dataframe\">\n",
       "  <thead>\n",
       "    <tr style=\"text-align: right;\">\n",
       "      <th></th>\n",
       "      <th>ExternOrderNo</th>\n",
       "      <th>SKU</th>\n",
       "      <th>Order Qty</th>\n",
       "      <th>Weight (g)</th>\n",
       "      <th>Total weight as per X (KG)</th>\n",
       "    </tr>\n",
       "  </thead>\n",
       "  <tbody>\n",
       "    <tr>\n",
       "      <th>0</th>\n",
       "      <td>2001827036</td>\n",
       "      <td>8904223818706</td>\n",
       "      <td>1.0</td>\n",
       "      <td>127</td>\n",
       "      <td>127.0</td>\n",
       "    </tr>\n",
       "    <tr>\n",
       "      <th>1</th>\n",
       "      <td>2001821995</td>\n",
       "      <td>8904223818706</td>\n",
       "      <td>1.0</td>\n",
       "      <td>127</td>\n",
       "      <td>127.0</td>\n",
       "    </tr>\n",
       "    <tr>\n",
       "      <th>2</th>\n",
       "      <td>2001819252</td>\n",
       "      <td>8904223818706</td>\n",
       "      <td>1.0</td>\n",
       "      <td>127</td>\n",
       "      <td>127.0</td>\n",
       "    </tr>\n",
       "    <tr>\n",
       "      <th>3</th>\n",
       "      <td>2001816996</td>\n",
       "      <td>8904223818706</td>\n",
       "      <td>1.0</td>\n",
       "      <td>127</td>\n",
       "      <td>127.0</td>\n",
       "    </tr>\n",
       "    <tr>\n",
       "      <th>4</th>\n",
       "      <td>2001814580</td>\n",
       "      <td>8904223818706</td>\n",
       "      <td>1.0</td>\n",
       "      <td>127</td>\n",
       "      <td>127.0</td>\n",
       "    </tr>\n",
       "  </tbody>\n",
       "</table>\n",
       "</div>"
      ],
      "text/plain": [
       "   ExternOrderNo            SKU  Order Qty  Weight (g)  \\\n",
       "0     2001827036  8904223818706        1.0         127   \n",
       "1     2001821995  8904223818706        1.0         127   \n",
       "2     2001819252  8904223818706        1.0         127   \n",
       "3     2001816996  8904223818706        1.0         127   \n",
       "4     2001814580  8904223818706        1.0         127   \n",
       "\n",
       "   Total weight as per X (KG)  \n",
       "0                       127.0  \n",
       "1                       127.0  \n",
       "2                       127.0  \n",
       "3                       127.0  \n",
       "4                       127.0  "
      ]
     },
     "execution_count": 63,
     "metadata": {},
     "output_type": "execute_result"
    }
   ],
   "source": [
    "Order_Report_Weight[\"Total weight as per X (KG)\"]=Order_Report_Weight[\"Weight (g)\"]*Order_Report_Weight[\"Order Qty\"]\n",
    "Order_Report_Weight.head()"
   ]
  },
  {
   "cell_type": "code",
   "execution_count": 64,
   "id": "a1e3cf40",
   "metadata": {},
   "outputs": [],
   "source": [
    "Order_Report_Weight.drop(columns=['Weight (g)','Order Qty'],inplace=True) \n",
    "#drop weight,Order Qty columns Since There is no use of these 2 columns any further calculations"
   ]
  },
  {
   "cell_type": "code",
   "execution_count": 65,
   "id": "552a587e",
   "metadata": {},
   "outputs": [
    {
     "data": {
      "text/plain": [
       "(398, 3)"
      ]
     },
     "execution_count": 65,
     "metadata": {},
     "output_type": "execute_result"
    }
   ],
   "source": [
    "Order_Report_Weight.shape"
   ]
  },
  {
   "cell_type": "code",
   "execution_count": 66,
   "id": "b83d4685",
   "metadata": {},
   "outputs": [
    {
     "data": {
      "text/html": [
       "<div>\n",
       "<style scoped>\n",
       "    .dataframe tbody tr th:only-of-type {\n",
       "        vertical-align: middle;\n",
       "    }\n",
       "\n",
       "    .dataframe tbody tr th {\n",
       "        vertical-align: top;\n",
       "    }\n",
       "\n",
       "    .dataframe thead th {\n",
       "        text-align: right;\n",
       "    }\n",
       "</style>\n",
       "<table border=\"1\" class=\"dataframe\">\n",
       "  <thead>\n",
       "    <tr style=\"text-align: right;\">\n",
       "      <th></th>\n",
       "      <th>ExternOrderNo</th>\n",
       "      <th>SKU</th>\n",
       "      <th>Total weight as per X (KG)</th>\n",
       "    </tr>\n",
       "  </thead>\n",
       "  <tbody>\n",
       "    <tr>\n",
       "      <th>0</th>\n",
       "      <td>2001827036</td>\n",
       "      <td>8904223818706</td>\n",
       "      <td>127.0</td>\n",
       "    </tr>\n",
       "    <tr>\n",
       "      <th>1</th>\n",
       "      <td>2001821995</td>\n",
       "      <td>8904223818706</td>\n",
       "      <td>127.0</td>\n",
       "    </tr>\n",
       "    <tr>\n",
       "      <th>2</th>\n",
       "      <td>2001819252</td>\n",
       "      <td>8904223818706</td>\n",
       "      <td>127.0</td>\n",
       "    </tr>\n",
       "    <tr>\n",
       "      <th>3</th>\n",
       "      <td>2001816996</td>\n",
       "      <td>8904223818706</td>\n",
       "      <td>127.0</td>\n",
       "    </tr>\n",
       "    <tr>\n",
       "      <th>4</th>\n",
       "      <td>2001814580</td>\n",
       "      <td>8904223818706</td>\n",
       "      <td>127.0</td>\n",
       "    </tr>\n",
       "  </tbody>\n",
       "</table>\n",
       "</div>"
      ],
      "text/plain": [
       "   ExternOrderNo            SKU  Total weight as per X (KG)\n",
       "0     2001827036  8904223818706                       127.0\n",
       "1     2001821995  8904223818706                       127.0\n",
       "2     2001819252  8904223818706                       127.0\n",
       "3     2001816996  8904223818706                       127.0\n",
       "4     2001814580  8904223818706                       127.0"
      ]
     },
     "execution_count": 66,
     "metadata": {},
     "output_type": "execute_result"
    }
   ],
   "source": [
    "Order_Report_Weight.head()"
   ]
  },
  {
   "cell_type": "markdown",
   "id": "c27570a5",
   "metadata": {},
   "source": [
    "##### Calculating Total Weight of Each order by grouping OrderNo"
   ]
  },
  {
   "cell_type": "code",
   "execution_count": 67,
   "id": "b05f3fc8",
   "metadata": {},
   "outputs": [
    {
     "data": {
      "text/html": [
       "<div>\n",
       "<style scoped>\n",
       "    .dataframe tbody tr th:only-of-type {\n",
       "        vertical-align: middle;\n",
       "    }\n",
       "\n",
       "    .dataframe tbody tr th {\n",
       "        vertical-align: top;\n",
       "    }\n",
       "\n",
       "    .dataframe thead th {\n",
       "        text-align: right;\n",
       "    }\n",
       "</style>\n",
       "<table border=\"1\" class=\"dataframe\">\n",
       "  <thead>\n",
       "    <tr style=\"text-align: right;\">\n",
       "      <th></th>\n",
       "      <th>ExternOrderNo</th>\n",
       "      <th>Total weight as per X (KG)</th>\n",
       "    </tr>\n",
       "  </thead>\n",
       "  <tbody>\n",
       "    <tr>\n",
       "      <th>0</th>\n",
       "      <td>2001806210</td>\n",
       "      <td>220.0</td>\n",
       "    </tr>\n",
       "    <tr>\n",
       "      <th>1</th>\n",
       "      <td>2001806226</td>\n",
       "      <td>480.0</td>\n",
       "    </tr>\n",
       "    <tr>\n",
       "      <th>2</th>\n",
       "      <td>2001806229</td>\n",
       "      <td>500.0</td>\n",
       "    </tr>\n",
       "    <tr>\n",
       "      <th>3</th>\n",
       "      <td>2001806232</td>\n",
       "      <td>1302.0</td>\n",
       "    </tr>\n",
       "    <tr>\n",
       "      <th>4</th>\n",
       "      <td>2001806233</td>\n",
       "      <td>245.0</td>\n",
       "    </tr>\n",
       "  </tbody>\n",
       "</table>\n",
       "</div>"
      ],
      "text/plain": [
       "   ExternOrderNo  Total weight as per X (KG)\n",
       "0     2001806210                       220.0\n",
       "1     2001806226                       480.0\n",
       "2     2001806229                       500.0\n",
       "3     2001806232                      1302.0\n",
       "4     2001806233                       245.0"
      ]
     },
     "execution_count": 67,
     "metadata": {},
     "output_type": "execute_result"
    }
   ],
   "source": [
    "order_weight=Order_Report_Weight.groupby('ExternOrderNo').agg({'Total weight as per X (KG)': 'sum',}).reset_index()\n",
    "order_weight.head()"
   ]
  },
  {
   "cell_type": "code",
   "execution_count": 68,
   "id": "11208804",
   "metadata": {},
   "outputs": [
    {
     "data": {
      "text/plain": [
       "(124, 2)"
      ]
     },
     "execution_count": 68,
     "metadata": {},
     "output_type": "execute_result"
    }
   ],
   "source": [
    "order_weight.shape"
   ]
  },
  {
   "cell_type": "markdown",
   "id": "f26cf902",
   "metadata": {},
   "source": [
    "## Courier Company Invoice Processing"
   ]
  },
  {
   "cell_type": "code",
   "execution_count": 69,
   "id": "ea5c44cc",
   "metadata": {},
   "outputs": [
    {
     "data": {
      "text/html": [
       "<div>\n",
       "<style scoped>\n",
       "    .dataframe tbody tr th:only-of-type {\n",
       "        vertical-align: middle;\n",
       "    }\n",
       "\n",
       "    .dataframe tbody tr th {\n",
       "        vertical-align: top;\n",
       "    }\n",
       "\n",
       "    .dataframe thead th {\n",
       "        text-align: right;\n",
       "    }\n",
       "</style>\n",
       "<table border=\"1\" class=\"dataframe\">\n",
       "  <thead>\n",
       "    <tr style=\"text-align: right;\">\n",
       "      <th></th>\n",
       "      <th>AWB Code</th>\n",
       "      <th>Order ID</th>\n",
       "      <th>Charged Weight</th>\n",
       "      <th>Warehouse Pincode</th>\n",
       "      <th>Customer Pincode</th>\n",
       "      <th>Zone</th>\n",
       "      <th>Type of Shipment</th>\n",
       "      <th>Billing Amount (Rs.)</th>\n",
       "    </tr>\n",
       "  </thead>\n",
       "  <tbody>\n",
       "    <tr>\n",
       "      <th>0</th>\n",
       "      <td>1091117222124</td>\n",
       "      <td>2001806232</td>\n",
       "      <td>1.30</td>\n",
       "      <td>121003</td>\n",
       "      <td>507101</td>\n",
       "      <td>d</td>\n",
       "      <td>Forward charges</td>\n",
       "      <td>135.0</td>\n",
       "    </tr>\n",
       "    <tr>\n",
       "      <th>1</th>\n",
       "      <td>1091117222194</td>\n",
       "      <td>2001806273</td>\n",
       "      <td>1.00</td>\n",
       "      <td>121003</td>\n",
       "      <td>486886</td>\n",
       "      <td>d</td>\n",
       "      <td>Forward charges</td>\n",
       "      <td>90.2</td>\n",
       "    </tr>\n",
       "    <tr>\n",
       "      <th>2</th>\n",
       "      <td>1091117222931</td>\n",
       "      <td>2001806408</td>\n",
       "      <td>2.50</td>\n",
       "      <td>121003</td>\n",
       "      <td>532484</td>\n",
       "      <td>d</td>\n",
       "      <td>Forward charges</td>\n",
       "      <td>224.6</td>\n",
       "    </tr>\n",
       "    <tr>\n",
       "      <th>3</th>\n",
       "      <td>1091117223244</td>\n",
       "      <td>2001806458</td>\n",
       "      <td>1.00</td>\n",
       "      <td>121003</td>\n",
       "      <td>143001</td>\n",
       "      <td>b</td>\n",
       "      <td>Forward charges</td>\n",
       "      <td>61.3</td>\n",
       "    </tr>\n",
       "    <tr>\n",
       "      <th>4</th>\n",
       "      <td>1091117229345</td>\n",
       "      <td>2001807012</td>\n",
       "      <td>0.15</td>\n",
       "      <td>121003</td>\n",
       "      <td>515591</td>\n",
       "      <td>d</td>\n",
       "      <td>Forward charges</td>\n",
       "      <td>45.4</td>\n",
       "    </tr>\n",
       "  </tbody>\n",
       "</table>\n",
       "</div>"
      ],
      "text/plain": [
       "        AWB Code    Order ID  Charged Weight  Warehouse Pincode  \\\n",
       "0  1091117222124  2001806232            1.30             121003   \n",
       "1  1091117222194  2001806273            1.00             121003   \n",
       "2  1091117222931  2001806408            2.50             121003   \n",
       "3  1091117223244  2001806458            1.00             121003   \n",
       "4  1091117229345  2001807012            0.15             121003   \n",
       "\n",
       "   Customer Pincode Zone Type of Shipment  Billing Amount (Rs.)  \n",
       "0            507101    d  Forward charges                 135.0  \n",
       "1            486886    d  Forward charges                  90.2  \n",
       "2            532484    d  Forward charges                 224.6  \n",
       "3            143001    b  Forward charges                  61.3  \n",
       "4            515591    d  Forward charges                  45.4  "
      ]
     },
     "execution_count": 69,
     "metadata": {},
     "output_type": "execute_result"
    }
   ],
   "source": [
    "invoice.head()"
   ]
  },
  {
   "cell_type": "markdown",
   "id": "87bd41d1",
   "metadata": {},
   "source": [
    "##### Check for Datatypes"
   ]
  },
  {
   "cell_type": "code",
   "execution_count": 70,
   "id": "f49dbf97",
   "metadata": {},
   "outputs": [
    {
     "data": {
      "text/plain": [
       "AWB Code                  int64\n",
       "Order ID                  int64\n",
       "Charged Weight          float64\n",
       "Warehouse Pincode         int64\n",
       "Customer Pincode          int64\n",
       "Zone                     object\n",
       "Type of Shipment         object\n",
       "Billing Amount (Rs.)    float64\n",
       "dtype: object"
      ]
     },
     "execution_count": 70,
     "metadata": {},
     "output_type": "execute_result"
    }
   ],
   "source": [
    "invoice.dtypes"
   ]
  },
  {
   "cell_type": "markdown",
   "id": "cd92ac2a",
   "metadata": {},
   "source": [
    "##### Check for null values"
   ]
  },
  {
   "cell_type": "code",
   "execution_count": 71,
   "id": "4df30e4e",
   "metadata": {},
   "outputs": [
    {
     "data": {
      "text/plain": [
       "AWB Code                0\n",
       "Order ID                0\n",
       "Charged Weight          0\n",
       "Warehouse Pincode       0\n",
       "Customer Pincode        0\n",
       "Zone                    0\n",
       "Type of Shipment        0\n",
       "Billing Amount (Rs.)    0\n",
       "dtype: int64"
      ]
     },
     "execution_count": 71,
     "metadata": {},
     "output_type": "execute_result"
    }
   ],
   "source": [
    "invoice.isna().sum()"
   ]
  },
  {
   "cell_type": "markdown",
   "id": "daeb7ae9",
   "metadata": {},
   "source": [
    "##### check for duplicates"
   ]
  },
  {
   "cell_type": "code",
   "execution_count": 72,
   "id": "5d14a5ff",
   "metadata": {},
   "outputs": [
    {
     "data": {
      "text/plain": [
       "(124, 8)"
      ]
     },
     "execution_count": 72,
     "metadata": {},
     "output_type": "execute_result"
    }
   ],
   "source": [
    "invoice.shape"
   ]
  },
  {
   "cell_type": "code",
   "execution_count": 73,
   "id": "54a5ce0b",
   "metadata": {},
   "outputs": [
    {
     "name": "stdout",
     "output_type": "stream",
     "text": [
      "Shape of Courier Comapny invoice Before Pre-Processing : (124, 8)\n",
      "Shape of Couier Company invoice After removing duplicates: (124, 8)\n",
      "\n",
      "There were 0 duplicates present in invoice\n"
     ]
    }
   ],
   "source": [
    "print(\"Shape of Courier Comapny invoice Before Pre-Processing :\",invoice.shape)\n",
    "s=invoice.shape[0]\n",
    "invoice.drop_duplicates(inplace=True)\n",
    "t=invoice.shape[0]\n",
    "print(\"Shape of Couier Company invoice After removing duplicates:\",invoice.shape)\n",
    "print(f'\\nThere were {s-t} duplicates present in invoice')"
   ]
  },
  {
   "cell_type": "markdown",
   "id": "b948c206",
   "metadata": {},
   "source": [
    "##### Check for Potential duplicates in Order ID,AWB code"
   ]
  },
  {
   "cell_type": "code",
   "execution_count": 74,
   "id": "ab6eb2b4",
   "metadata": {},
   "outputs": [
    {
     "name": "stdout",
     "output_type": "stream",
     "text": [
      "0\n",
      "0\n"
     ]
    }
   ],
   "source": [
    "print(invoice['Order ID'].duplicated().sum())\n",
    "print(invoice['AWB Code'].duplicated().sum())"
   ]
  },
  {
   "cell_type": "markdown",
   "id": "58126774",
   "metadata": {},
   "source": [
    "## Create New Dataframe by merging Order weight and Invoice to 'cross check order Weight'"
   ]
  },
  {
   "cell_type": "code",
   "execution_count": 75,
   "id": "01c35dc2",
   "metadata": {},
   "outputs": [
    {
     "data": {
      "text/html": [
       "<div>\n",
       "<style scoped>\n",
       "    .dataframe tbody tr th:only-of-type {\n",
       "        vertical-align: middle;\n",
       "    }\n",
       "\n",
       "    .dataframe tbody tr th {\n",
       "        vertical-align: top;\n",
       "    }\n",
       "\n",
       "    .dataframe thead th {\n",
       "        text-align: right;\n",
       "    }\n",
       "</style>\n",
       "<table border=\"1\" class=\"dataframe\">\n",
       "  <thead>\n",
       "    <tr style=\"text-align: right;\">\n",
       "      <th></th>\n",
       "      <th>ExternOrderNo</th>\n",
       "      <th>Total weight as per X (KG)</th>\n",
       "      <th>AWB Code</th>\n",
       "      <th>Order ID</th>\n",
       "      <th>Charged Weight</th>\n",
       "      <th>Warehouse Pincode</th>\n",
       "      <th>Customer Pincode</th>\n",
       "      <th>Zone</th>\n",
       "      <th>Type of Shipment</th>\n",
       "      <th>Billing Amount (Rs.)</th>\n",
       "    </tr>\n",
       "  </thead>\n",
       "  <tbody>\n",
       "    <tr>\n",
       "      <th>0</th>\n",
       "      <td>2001806210</td>\n",
       "      <td>220.0</td>\n",
       "      <td>1091117221940</td>\n",
       "      <td>2001806210</td>\n",
       "      <td>2.92</td>\n",
       "      <td>121003</td>\n",
       "      <td>140604</td>\n",
       "      <td>b</td>\n",
       "      <td>Forward charges</td>\n",
       "      <td>174.5</td>\n",
       "    </tr>\n",
       "    <tr>\n",
       "      <th>1</th>\n",
       "      <td>2001806226</td>\n",
       "      <td>480.0</td>\n",
       "      <td>1091117222065</td>\n",
       "      <td>2001806226</td>\n",
       "      <td>0.68</td>\n",
       "      <td>121003</td>\n",
       "      <td>723146</td>\n",
       "      <td>d</td>\n",
       "      <td>Forward charges</td>\n",
       "      <td>90.2</td>\n",
       "    </tr>\n",
       "    <tr>\n",
       "      <th>2</th>\n",
       "      <td>2001806229</td>\n",
       "      <td>500.0</td>\n",
       "      <td>1091117222080</td>\n",
       "      <td>2001806229</td>\n",
       "      <td>0.71</td>\n",
       "      <td>121003</td>\n",
       "      <td>421204</td>\n",
       "      <td>d</td>\n",
       "      <td>Forward charges</td>\n",
       "      <td>90.2</td>\n",
       "    </tr>\n",
       "    <tr>\n",
       "      <th>3</th>\n",
       "      <td>2001806232</td>\n",
       "      <td>1302.0</td>\n",
       "      <td>1091117222124</td>\n",
       "      <td>2001806232</td>\n",
       "      <td>1.30</td>\n",
       "      <td>121003</td>\n",
       "      <td>507101</td>\n",
       "      <td>d</td>\n",
       "      <td>Forward charges</td>\n",
       "      <td>135.0</td>\n",
       "    </tr>\n",
       "    <tr>\n",
       "      <th>4</th>\n",
       "      <td>2001806233</td>\n",
       "      <td>245.0</td>\n",
       "      <td>1091117222135</td>\n",
       "      <td>2001806233</td>\n",
       "      <td>0.78</td>\n",
       "      <td>121003</td>\n",
       "      <td>263139</td>\n",
       "      <td>b</td>\n",
       "      <td>Forward charges</td>\n",
       "      <td>61.3</td>\n",
       "    </tr>\n",
       "  </tbody>\n",
       "</table>\n",
       "</div>"
      ],
      "text/plain": [
       "   ExternOrderNo  Total weight as per X (KG)       AWB Code    Order ID  \\\n",
       "0     2001806210                       220.0  1091117221940  2001806210   \n",
       "1     2001806226                       480.0  1091117222065  2001806226   \n",
       "2     2001806229                       500.0  1091117222080  2001806229   \n",
       "3     2001806232                      1302.0  1091117222124  2001806232   \n",
       "4     2001806233                       245.0  1091117222135  2001806233   \n",
       "\n",
       "   Charged Weight  Warehouse Pincode  Customer Pincode Zone Type of Shipment  \\\n",
       "0            2.92             121003            140604    b  Forward charges   \n",
       "1            0.68             121003            723146    d  Forward charges   \n",
       "2            0.71             121003            421204    d  Forward charges   \n",
       "3            1.30             121003            507101    d  Forward charges   \n",
       "4            0.78             121003            263139    b  Forward charges   \n",
       "\n",
       "   Billing Amount (Rs.)  \n",
       "0                 174.5  \n",
       "1                  90.2  \n",
       "2                  90.2  \n",
       "3                 135.0  \n",
       "4                  61.3  "
      ]
     },
     "execution_count": 75,
     "metadata": {},
     "output_type": "execute_result"
    }
   ],
   "source": [
    "invoice_new=pd.merge(order_weight, invoice, left_on='ExternOrderNo', right_on='Order ID')\n",
    "invoice_new.head()"
   ]
  },
  {
   "cell_type": "markdown",
   "id": "23866af1",
   "metadata": {},
   "source": [
    "### Convering Weights from grams to KG"
   ]
  },
  {
   "cell_type": "code",
   "execution_count": 76,
   "id": "a28cc8a3",
   "metadata": {},
   "outputs": [
    {
     "data": {
      "text/html": [
       "<div>\n",
       "<style scoped>\n",
       "    .dataframe tbody tr th:only-of-type {\n",
       "        vertical-align: middle;\n",
       "    }\n",
       "\n",
       "    .dataframe tbody tr th {\n",
       "        vertical-align: top;\n",
       "    }\n",
       "\n",
       "    .dataframe thead th {\n",
       "        text-align: right;\n",
       "    }\n",
       "</style>\n",
       "<table border=\"1\" class=\"dataframe\">\n",
       "  <thead>\n",
       "    <tr style=\"text-align: right;\">\n",
       "      <th></th>\n",
       "      <th>ExternOrderNo</th>\n",
       "      <th>Total weight as per X (KG)</th>\n",
       "      <th>AWB Code</th>\n",
       "      <th>Order ID</th>\n",
       "      <th>Charged Weight</th>\n",
       "      <th>Warehouse Pincode</th>\n",
       "      <th>Customer Pincode</th>\n",
       "      <th>Zone</th>\n",
       "      <th>Type of Shipment</th>\n",
       "      <th>Billing Amount (Rs.)</th>\n",
       "    </tr>\n",
       "  </thead>\n",
       "  <tbody>\n",
       "    <tr>\n",
       "      <th>0</th>\n",
       "      <td>2001806210</td>\n",
       "      <td>0.220</td>\n",
       "      <td>1091117221940</td>\n",
       "      <td>2001806210</td>\n",
       "      <td>2.92</td>\n",
       "      <td>121003</td>\n",
       "      <td>140604</td>\n",
       "      <td>b</td>\n",
       "      <td>Forward charges</td>\n",
       "      <td>174.5</td>\n",
       "    </tr>\n",
       "    <tr>\n",
       "      <th>1</th>\n",
       "      <td>2001806226</td>\n",
       "      <td>0.480</td>\n",
       "      <td>1091117222065</td>\n",
       "      <td>2001806226</td>\n",
       "      <td>0.68</td>\n",
       "      <td>121003</td>\n",
       "      <td>723146</td>\n",
       "      <td>d</td>\n",
       "      <td>Forward charges</td>\n",
       "      <td>90.2</td>\n",
       "    </tr>\n",
       "    <tr>\n",
       "      <th>2</th>\n",
       "      <td>2001806229</td>\n",
       "      <td>0.500</td>\n",
       "      <td>1091117222080</td>\n",
       "      <td>2001806229</td>\n",
       "      <td>0.71</td>\n",
       "      <td>121003</td>\n",
       "      <td>421204</td>\n",
       "      <td>d</td>\n",
       "      <td>Forward charges</td>\n",
       "      <td>90.2</td>\n",
       "    </tr>\n",
       "    <tr>\n",
       "      <th>3</th>\n",
       "      <td>2001806232</td>\n",
       "      <td>1.302</td>\n",
       "      <td>1091117222124</td>\n",
       "      <td>2001806232</td>\n",
       "      <td>1.30</td>\n",
       "      <td>121003</td>\n",
       "      <td>507101</td>\n",
       "      <td>d</td>\n",
       "      <td>Forward charges</td>\n",
       "      <td>135.0</td>\n",
       "    </tr>\n",
       "    <tr>\n",
       "      <th>4</th>\n",
       "      <td>2001806233</td>\n",
       "      <td>0.245</td>\n",
       "      <td>1091117222135</td>\n",
       "      <td>2001806233</td>\n",
       "      <td>0.78</td>\n",
       "      <td>121003</td>\n",
       "      <td>263139</td>\n",
       "      <td>b</td>\n",
       "      <td>Forward charges</td>\n",
       "      <td>61.3</td>\n",
       "    </tr>\n",
       "  </tbody>\n",
       "</table>\n",
       "</div>"
      ],
      "text/plain": [
       "   ExternOrderNo  Total weight as per X (KG)       AWB Code    Order ID  \\\n",
       "0     2001806210                       0.220  1091117221940  2001806210   \n",
       "1     2001806226                       0.480  1091117222065  2001806226   \n",
       "2     2001806229                       0.500  1091117222080  2001806229   \n",
       "3     2001806232                       1.302  1091117222124  2001806232   \n",
       "4     2001806233                       0.245  1091117222135  2001806233   \n",
       "\n",
       "   Charged Weight  Warehouse Pincode  Customer Pincode Zone Type of Shipment  \\\n",
       "0            2.92             121003            140604    b  Forward charges   \n",
       "1            0.68             121003            723146    d  Forward charges   \n",
       "2            0.71             121003            421204    d  Forward charges   \n",
       "3            1.30             121003            507101    d  Forward charges   \n",
       "4            0.78             121003            263139    b  Forward charges   \n",
       "\n",
       "   Billing Amount (Rs.)  \n",
       "0                 174.5  \n",
       "1                  90.2  \n",
       "2                  90.2  \n",
       "3                 135.0  \n",
       "4                  61.3  "
      ]
     },
     "execution_count": 76,
     "metadata": {},
     "output_type": "execute_result"
    }
   ],
   "source": [
    "invoice_new[\"Total weight as per X (KG)\"]=invoice_new[\"Total weight as per X (KG)\"]/1000\n",
    "invoice_new.head()"
   ]
  },
  {
   "cell_type": "markdown",
   "id": "960dd1d2",
   "metadata": {},
   "source": [
    "### Calculating Weight in Weight slabs"
   ]
  },
  {
   "cell_type": "code",
   "execution_count": 77,
   "id": "98288f35",
   "metadata": {},
   "outputs": [
    {
     "data": {
      "text/html": [
       "<div>\n",
       "<style scoped>\n",
       "    .dataframe tbody tr th:only-of-type {\n",
       "        vertical-align: middle;\n",
       "    }\n",
       "\n",
       "    .dataframe tbody tr th {\n",
       "        vertical-align: top;\n",
       "    }\n",
       "\n",
       "    .dataframe thead th {\n",
       "        text-align: right;\n",
       "    }\n",
       "</style>\n",
       "<table border=\"1\" class=\"dataframe\">\n",
       "  <thead>\n",
       "    <tr style=\"text-align: right;\">\n",
       "      <th></th>\n",
       "      <th>ExternOrderNo</th>\n",
       "      <th>Total weight as per X (KG)</th>\n",
       "      <th>AWB Code</th>\n",
       "      <th>Order ID</th>\n",
       "      <th>Charged Weight</th>\n",
       "      <th>Warehouse Pincode</th>\n",
       "      <th>Customer Pincode</th>\n",
       "      <th>Zone</th>\n",
       "      <th>Type of Shipment</th>\n",
       "      <th>Billing Amount (Rs.)</th>\n",
       "      <th>Weight slab as per X (KG)</th>\n",
       "      <th>Weight slab charged by Courier Company (KG)</th>\n",
       "    </tr>\n",
       "  </thead>\n",
       "  <tbody>\n",
       "    <tr>\n",
       "      <th>0</th>\n",
       "      <td>2001806210</td>\n",
       "      <td>0.220</td>\n",
       "      <td>1091117221940</td>\n",
       "      <td>2001806210</td>\n",
       "      <td>2.92</td>\n",
       "      <td>121003</td>\n",
       "      <td>140604</td>\n",
       "      <td>b</td>\n",
       "      <td>Forward charges</td>\n",
       "      <td>174.5</td>\n",
       "      <td>0.5</td>\n",
       "      <td>3.0</td>\n",
       "    </tr>\n",
       "    <tr>\n",
       "      <th>1</th>\n",
       "      <td>2001806226</td>\n",
       "      <td>0.480</td>\n",
       "      <td>1091117222065</td>\n",
       "      <td>2001806226</td>\n",
       "      <td>0.68</td>\n",
       "      <td>121003</td>\n",
       "      <td>723146</td>\n",
       "      <td>d</td>\n",
       "      <td>Forward charges</td>\n",
       "      <td>90.2</td>\n",
       "      <td>0.5</td>\n",
       "      <td>1.0</td>\n",
       "    </tr>\n",
       "    <tr>\n",
       "      <th>2</th>\n",
       "      <td>2001806229</td>\n",
       "      <td>0.500</td>\n",
       "      <td>1091117222080</td>\n",
       "      <td>2001806229</td>\n",
       "      <td>0.71</td>\n",
       "      <td>121003</td>\n",
       "      <td>421204</td>\n",
       "      <td>d</td>\n",
       "      <td>Forward charges</td>\n",
       "      <td>90.2</td>\n",
       "      <td>0.5</td>\n",
       "      <td>1.0</td>\n",
       "    </tr>\n",
       "    <tr>\n",
       "      <th>3</th>\n",
       "      <td>2001806232</td>\n",
       "      <td>1.302</td>\n",
       "      <td>1091117222124</td>\n",
       "      <td>2001806232</td>\n",
       "      <td>1.30</td>\n",
       "      <td>121003</td>\n",
       "      <td>507101</td>\n",
       "      <td>d</td>\n",
       "      <td>Forward charges</td>\n",
       "      <td>135.0</td>\n",
       "      <td>1.5</td>\n",
       "      <td>1.5</td>\n",
       "    </tr>\n",
       "    <tr>\n",
       "      <th>4</th>\n",
       "      <td>2001806233</td>\n",
       "      <td>0.245</td>\n",
       "      <td>1091117222135</td>\n",
       "      <td>2001806233</td>\n",
       "      <td>0.78</td>\n",
       "      <td>121003</td>\n",
       "      <td>263139</td>\n",
       "      <td>b</td>\n",
       "      <td>Forward charges</td>\n",
       "      <td>61.3</td>\n",
       "      <td>0.5</td>\n",
       "      <td>1.0</td>\n",
       "    </tr>\n",
       "  </tbody>\n",
       "</table>\n",
       "</div>"
      ],
      "text/plain": [
       "   ExternOrderNo  Total weight as per X (KG)       AWB Code    Order ID  \\\n",
       "0     2001806210                       0.220  1091117221940  2001806210   \n",
       "1     2001806226                       0.480  1091117222065  2001806226   \n",
       "2     2001806229                       0.500  1091117222080  2001806229   \n",
       "3     2001806232                       1.302  1091117222124  2001806232   \n",
       "4     2001806233                       0.245  1091117222135  2001806233   \n",
       "\n",
       "   Charged Weight  Warehouse Pincode  Customer Pincode Zone Type of Shipment  \\\n",
       "0            2.92             121003            140604    b  Forward charges   \n",
       "1            0.68             121003            723146    d  Forward charges   \n",
       "2            0.71             121003            421204    d  Forward charges   \n",
       "3            1.30             121003            507101    d  Forward charges   \n",
       "4            0.78             121003            263139    b  Forward charges   \n",
       "\n",
       "   Billing Amount (Rs.)  Weight slab as per X (KG)  \\\n",
       "0                 174.5                        0.5   \n",
       "1                  90.2                        0.5   \n",
       "2                  90.2                        0.5   \n",
       "3                 135.0                        1.5   \n",
       "4                  61.3                        0.5   \n",
       "\n",
       "   Weight slab charged by Courier Company (KG)  \n",
       "0                                          3.0  \n",
       "1                                          1.0  \n",
       "2                                          1.0  \n",
       "3                                          1.5  \n",
       "4                                          1.0  "
      ]
     },
     "execution_count": 77,
     "metadata": {},
     "output_type": "execute_result"
    }
   ],
   "source": [
    "def weight(a):            #Function to calculate weight slab\n",
    "    b=a%1                #check for remaining grams of weight after getting complete full KGs(0,1,2,...)\n",
    "    if 0.0<b<=0.5:   \n",
    "        a//=1\n",
    "        a+=0.5          #if remaining grams are less than or equal to 0.5g and more than 0.0g add only 0.5 weight slabs\n",
    "    elif b>0.5:\n",
    "        a//=1\n",
    "        a+=1            #if remaining grams are more than 0.5g add only 1.0 weight slabs\n",
    "    return a\n",
    "    \n",
    "invoice_new['Weight slab as per X (KG)']=invoice_new['Total weight as per X (KG)'].apply(lambda x:weight(x))\n",
    "invoice_new['Weight slab charged by Courier Company (KG)']=invoice_new['Charged Weight'].apply(lambda x:weight(x))\n",
    "invoice_new.head()"
   ]
  },
  {
   "cell_type": "code",
   "execution_count": 78,
   "id": "ecbac670",
   "metadata": {},
   "outputs": [],
   "source": [
    "invoice_new.rename(columns={'Zone':'Delivery Zone charged by Courier Company'},inplace=True)"
   ]
  },
  {
   "cell_type": "code",
   "execution_count": 79,
   "id": "ba4c7ace",
   "metadata": {},
   "outputs": [
    {
     "data": {
      "text/plain": [
       "array([121003], dtype=int64)"
      ]
     },
     "execution_count": 79,
     "metadata": {},
     "output_type": "execute_result"
    }
   ],
   "source": [
    "invoice_new['Warehouse Pincode'].unique()"
   ]
  },
  {
   "cell_type": "markdown",
   "id": "b7af4cd9",
   "metadata": {},
   "source": [
    "only one warehouse is present"
   ]
  },
  {
   "cell_type": "code",
   "execution_count": 80,
   "id": "3812e1e5",
   "metadata": {},
   "outputs": [],
   "source": [
    "invoice_new.drop(columns='Warehouse Pincode',inplace=True)"
   ]
  },
  {
   "cell_type": "markdown",
   "id": "b0d24b24",
   "metadata": {},
   "source": [
    "## Pincode Dataframe Processing"
   ]
  },
  {
   "cell_type": "code",
   "execution_count": 81,
   "id": "6699b71a",
   "metadata": {},
   "outputs": [
    {
     "data": {
      "text/html": [
       "<div>\n",
       "<style scoped>\n",
       "    .dataframe tbody tr th:only-of-type {\n",
       "        vertical-align: middle;\n",
       "    }\n",
       "\n",
       "    .dataframe tbody tr th {\n",
       "        vertical-align: top;\n",
       "    }\n",
       "\n",
       "    .dataframe thead th {\n",
       "        text-align: right;\n",
       "    }\n",
       "</style>\n",
       "<table border=\"1\" class=\"dataframe\">\n",
       "  <thead>\n",
       "    <tr style=\"text-align: right;\">\n",
       "      <th></th>\n",
       "      <th>Warehouse Pincode</th>\n",
       "      <th>Customer Pincode</th>\n",
       "      <th>Zone</th>\n",
       "    </tr>\n",
       "  </thead>\n",
       "  <tbody>\n",
       "    <tr>\n",
       "      <th>0</th>\n",
       "      <td>121003</td>\n",
       "      <td>507101</td>\n",
       "      <td>d</td>\n",
       "    </tr>\n",
       "    <tr>\n",
       "      <th>1</th>\n",
       "      <td>121003</td>\n",
       "      <td>486886</td>\n",
       "      <td>d</td>\n",
       "    </tr>\n",
       "    <tr>\n",
       "      <th>2</th>\n",
       "      <td>121003</td>\n",
       "      <td>532484</td>\n",
       "      <td>d</td>\n",
       "    </tr>\n",
       "    <tr>\n",
       "      <th>3</th>\n",
       "      <td>121003</td>\n",
       "      <td>143001</td>\n",
       "      <td>b</td>\n",
       "    </tr>\n",
       "    <tr>\n",
       "      <th>4</th>\n",
       "      <td>121003</td>\n",
       "      <td>515591</td>\n",
       "      <td>d</td>\n",
       "    </tr>\n",
       "  </tbody>\n",
       "</table>\n",
       "</div>"
      ],
      "text/plain": [
       "   Warehouse Pincode  Customer Pincode Zone\n",
       "0             121003            507101    d\n",
       "1             121003            486886    d\n",
       "2             121003            532484    d\n",
       "3             121003            143001    b\n",
       "4             121003            515591    d"
      ]
     },
     "execution_count": 81,
     "metadata": {},
     "output_type": "execute_result"
    }
   ],
   "source": [
    "pincode.head()"
   ]
  },
  {
   "cell_type": "markdown",
   "id": "053b4901",
   "metadata": {},
   "source": [
    "##### Check for Datatypes"
   ]
  },
  {
   "cell_type": "code",
   "execution_count": 82,
   "id": "77711104",
   "metadata": {},
   "outputs": [
    {
     "data": {
      "text/plain": [
       "Warehouse Pincode     int64\n",
       "Customer Pincode      int64\n",
       "Zone                 object\n",
       "dtype: object"
      ]
     },
     "execution_count": 82,
     "metadata": {},
     "output_type": "execute_result"
    }
   ],
   "source": [
    "pincode.dtypes"
   ]
  },
  {
   "cell_type": "markdown",
   "id": "b9dca87b",
   "metadata": {},
   "source": [
    "##### Check for null values"
   ]
  },
  {
   "cell_type": "code",
   "execution_count": 83,
   "id": "1905b63d",
   "metadata": {},
   "outputs": [
    {
     "data": {
      "text/plain": [
       "Warehouse Pincode    0\n",
       "Customer Pincode     0\n",
       "Zone                 0\n",
       "dtype: int64"
      ]
     },
     "execution_count": 83,
     "metadata": {},
     "output_type": "execute_result"
    }
   ],
   "source": [
    "pincode.isna().sum()"
   ]
  },
  {
   "cell_type": "markdown",
   "id": "da101a85",
   "metadata": {},
   "source": [
    "##### Check for Duplicates"
   ]
  },
  {
   "cell_type": "code",
   "execution_count": 84,
   "id": "16fbee0b",
   "metadata": {},
   "outputs": [
    {
     "name": "stdout",
     "output_type": "stream",
     "text": [
      "Shape of pincode Before Pre-Processing : (124, 3)\n",
      "Shape of pincode After removing duplicates: (108, 3)\n",
      "\n",
      "There were 16 duplicates present in pincode\n"
     ]
    }
   ],
   "source": [
    "print(\"Shape of pincode Before Pre-Processing :\",pincode.shape)\n",
    "s=pincode.shape[0]\n",
    "pincode.drop_duplicates(inplace=True)\n",
    "t=pincode.shape[0]\n",
    "print(\"Shape of pincode After removing duplicates:\",pincode.shape)\n",
    "print(f'\\nThere were {s-t} duplicates present in pincode')"
   ]
  },
  {
   "cell_type": "code",
   "execution_count": 85,
   "id": "c46304c0",
   "metadata": {},
   "outputs": [
    {
     "data": {
      "text/plain": [
       "array([121003], dtype=int64)"
      ]
     },
     "execution_count": 85,
     "metadata": {},
     "output_type": "execute_result"
    }
   ],
   "source": [
    "pincode['Warehouse Pincode'].unique()"
   ]
  },
  {
   "cell_type": "markdown",
   "id": "790e9816",
   "metadata": {},
   "source": [
    "only one warehouse is present"
   ]
  },
  {
   "cell_type": "code",
   "execution_count": 86,
   "id": "9fd37e6a",
   "metadata": {},
   "outputs": [],
   "source": [
    "pincode.drop(columns='Warehouse Pincode',inplace=True)"
   ]
  },
  {
   "cell_type": "code",
   "execution_count": 87,
   "id": "3cc288e5",
   "metadata": {},
   "outputs": [],
   "source": [
    "pincode.rename(columns={'Zone':'Delivery Zone as per X'},inplace=True)"
   ]
  },
  {
   "cell_type": "markdown",
   "id": "e310c6c8",
   "metadata": {},
   "source": [
    "## Create New DataFrame by merging invoice_new and pincode to 'cross check pincode'"
   ]
  },
  {
   "cell_type": "code",
   "execution_count": 88,
   "id": "5cb88b8c",
   "metadata": {},
   "outputs": [
    {
     "data": {
      "text/html": [
       "<div>\n",
       "<style scoped>\n",
       "    .dataframe tbody tr th:only-of-type {\n",
       "        vertical-align: middle;\n",
       "    }\n",
       "\n",
       "    .dataframe tbody tr th {\n",
       "        vertical-align: top;\n",
       "    }\n",
       "\n",
       "    .dataframe thead th {\n",
       "        text-align: right;\n",
       "    }\n",
       "</style>\n",
       "<table border=\"1\" class=\"dataframe\">\n",
       "  <thead>\n",
       "    <tr style=\"text-align: right;\">\n",
       "      <th></th>\n",
       "      <th>ExternOrderNo</th>\n",
       "      <th>Total weight as per X (KG)</th>\n",
       "      <th>AWB Code</th>\n",
       "      <th>Order ID</th>\n",
       "      <th>Charged Weight</th>\n",
       "      <th>Customer Pincode</th>\n",
       "      <th>Delivery Zone charged by Courier Company</th>\n",
       "      <th>Type of Shipment</th>\n",
       "      <th>Billing Amount (Rs.)</th>\n",
       "      <th>Weight slab as per X (KG)</th>\n",
       "      <th>Weight slab charged by Courier Company (KG)</th>\n",
       "      <th>Delivery Zone as per X</th>\n",
       "    </tr>\n",
       "  </thead>\n",
       "  <tbody>\n",
       "    <tr>\n",
       "      <th>0</th>\n",
       "      <td>2001806210</td>\n",
       "      <td>0.220</td>\n",
       "      <td>1091117221940</td>\n",
       "      <td>2001806210</td>\n",
       "      <td>2.92</td>\n",
       "      <td>140604</td>\n",
       "      <td>b</td>\n",
       "      <td>Forward charges</td>\n",
       "      <td>174.5</td>\n",
       "      <td>0.5</td>\n",
       "      <td>3.0</td>\n",
       "      <td>b</td>\n",
       "    </tr>\n",
       "    <tr>\n",
       "      <th>1</th>\n",
       "      <td>2001806226</td>\n",
       "      <td>0.480</td>\n",
       "      <td>1091117222065</td>\n",
       "      <td>2001806226</td>\n",
       "      <td>0.68</td>\n",
       "      <td>723146</td>\n",
       "      <td>d</td>\n",
       "      <td>Forward charges</td>\n",
       "      <td>90.2</td>\n",
       "      <td>0.5</td>\n",
       "      <td>1.0</td>\n",
       "      <td>d</td>\n",
       "    </tr>\n",
       "    <tr>\n",
       "      <th>2</th>\n",
       "      <td>2001806229</td>\n",
       "      <td>0.500</td>\n",
       "      <td>1091117222080</td>\n",
       "      <td>2001806229</td>\n",
       "      <td>0.71</td>\n",
       "      <td>421204</td>\n",
       "      <td>d</td>\n",
       "      <td>Forward charges</td>\n",
       "      <td>90.2</td>\n",
       "      <td>0.5</td>\n",
       "      <td>1.0</td>\n",
       "      <td>d</td>\n",
       "    </tr>\n",
       "    <tr>\n",
       "      <th>3</th>\n",
       "      <td>2001806232</td>\n",
       "      <td>1.302</td>\n",
       "      <td>1091117222124</td>\n",
       "      <td>2001806232</td>\n",
       "      <td>1.30</td>\n",
       "      <td>507101</td>\n",
       "      <td>d</td>\n",
       "      <td>Forward charges</td>\n",
       "      <td>135.0</td>\n",
       "      <td>1.5</td>\n",
       "      <td>1.5</td>\n",
       "      <td>d</td>\n",
       "    </tr>\n",
       "    <tr>\n",
       "      <th>4</th>\n",
       "      <td>2001806233</td>\n",
       "      <td>0.245</td>\n",
       "      <td>1091117222135</td>\n",
       "      <td>2001806233</td>\n",
       "      <td>0.78</td>\n",
       "      <td>263139</td>\n",
       "      <td>b</td>\n",
       "      <td>Forward charges</td>\n",
       "      <td>61.3</td>\n",
       "      <td>0.5</td>\n",
       "      <td>1.0</td>\n",
       "      <td>b</td>\n",
       "    </tr>\n",
       "  </tbody>\n",
       "</table>\n",
       "</div>"
      ],
      "text/plain": [
       "   ExternOrderNo  Total weight as per X (KG)       AWB Code    Order ID  \\\n",
       "0     2001806210                       0.220  1091117221940  2001806210   \n",
       "1     2001806226                       0.480  1091117222065  2001806226   \n",
       "2     2001806229                       0.500  1091117222080  2001806229   \n",
       "3     2001806232                       1.302  1091117222124  2001806232   \n",
       "4     2001806233                       0.245  1091117222135  2001806233   \n",
       "\n",
       "   Charged Weight  Customer Pincode Delivery Zone charged by Courier Company  \\\n",
       "0            2.92            140604                                        b   \n",
       "1            0.68            723146                                        d   \n",
       "2            0.71            421204                                        d   \n",
       "3            1.30            507101                                        d   \n",
       "4            0.78            263139                                        b   \n",
       "\n",
       "  Type of Shipment  Billing Amount (Rs.)  Weight slab as per X (KG)  \\\n",
       "0  Forward charges                 174.5                        0.5   \n",
       "1  Forward charges                  90.2                        0.5   \n",
       "2  Forward charges                  90.2                        0.5   \n",
       "3  Forward charges                 135.0                        1.5   \n",
       "4  Forward charges                  61.3                        0.5   \n",
       "\n",
       "   Weight slab charged by Courier Company (KG) Delivery Zone as per X  \n",
       "0                                          3.0                      b  \n",
       "1                                          1.0                      d  \n",
       "2                                          1.0                      d  \n",
       "3                                          1.5                      d  \n",
       "4                                          1.0                      b  "
      ]
     },
     "execution_count": 88,
     "metadata": {},
     "output_type": "execute_result"
    }
   ],
   "source": [
    "Resultant=pd.merge(invoice_new, pincode, on='Customer Pincode')\n",
    "Resultant.head()"
   ]
  },
  {
   "cell_type": "code",
   "execution_count": 89,
   "id": "01b0cc12",
   "metadata": {},
   "outputs": [
    {
     "data": {
      "text/html": [
       "<div>\n",
       "<style scoped>\n",
       "    .dataframe tbody tr th:only-of-type {\n",
       "        vertical-align: middle;\n",
       "    }\n",
       "\n",
       "    .dataframe tbody tr th {\n",
       "        vertical-align: top;\n",
       "    }\n",
       "\n",
       "    .dataframe thead th {\n",
       "        text-align: right;\n",
       "    }\n",
       "</style>\n",
       "<table border=\"1\" class=\"dataframe\">\n",
       "  <thead>\n",
       "    <tr style=\"text-align: right;\">\n",
       "      <th></th>\n",
       "      <th>fwd_a_fixed</th>\n",
       "      <th>fwd_a_additional</th>\n",
       "      <th>fwd_b_fixed</th>\n",
       "      <th>fwd_b_additional</th>\n",
       "      <th>fwd_c_fixed</th>\n",
       "      <th>fwd_c_additional</th>\n",
       "      <th>fwd_d_fixed</th>\n",
       "      <th>fwd_d_additional</th>\n",
       "      <th>fwd_e_fixed</th>\n",
       "      <th>fwd_e_additional</th>\n",
       "      <th>rto_a_fixed</th>\n",
       "      <th>rto_a_additional</th>\n",
       "      <th>rto_b_fixed</th>\n",
       "      <th>rto_b_additional</th>\n",
       "      <th>rto_c_fixed</th>\n",
       "      <th>rto_c_additional</th>\n",
       "      <th>rto_d_fixed</th>\n",
       "      <th>rto_d_additional</th>\n",
       "      <th>rto_e_fixed</th>\n",
       "      <th>rto_e_additional</th>\n",
       "    </tr>\n",
       "  </thead>\n",
       "  <tbody>\n",
       "    <tr>\n",
       "      <th>0</th>\n",
       "      <td>29.5</td>\n",
       "      <td>23.6</td>\n",
       "      <td>33</td>\n",
       "      <td>28.3</td>\n",
       "      <td>40.1</td>\n",
       "      <td>38.9</td>\n",
       "      <td>45.4</td>\n",
       "      <td>44.8</td>\n",
       "      <td>56.6</td>\n",
       "      <td>55.5</td>\n",
       "      <td>13.6</td>\n",
       "      <td>23.6</td>\n",
       "      <td>20.5</td>\n",
       "      <td>28.3</td>\n",
       "      <td>31.9</td>\n",
       "      <td>38.9</td>\n",
       "      <td>41.3</td>\n",
       "      <td>44.8</td>\n",
       "      <td>50.7</td>\n",
       "      <td>55.5</td>\n",
       "    </tr>\n",
       "  </tbody>\n",
       "</table>\n",
       "</div>"
      ],
      "text/plain": [
       "   fwd_a_fixed  fwd_a_additional  fwd_b_fixed  fwd_b_additional  fwd_c_fixed  \\\n",
       "0         29.5              23.6           33              28.3         40.1   \n",
       "\n",
       "   fwd_c_additional  fwd_d_fixed  fwd_d_additional  fwd_e_fixed  \\\n",
       "0              38.9         45.4              44.8         56.6   \n",
       "\n",
       "   fwd_e_additional  rto_a_fixed  rto_a_additional  rto_b_fixed  \\\n",
       "0              55.5         13.6              23.6         20.5   \n",
       "\n",
       "   rto_b_additional  rto_c_fixed  rto_c_additional  rto_d_fixed  \\\n",
       "0              28.3         31.9              38.9         41.3   \n",
       "\n",
       "   rto_d_additional  rto_e_fixed  rto_e_additional  \n",
       "0              44.8         50.7              55.5  "
      ]
     },
     "execution_count": 89,
     "metadata": {},
     "output_type": "execute_result"
    }
   ],
   "source": [
    "rate.head()"
   ]
  },
  {
   "cell_type": "code",
   "execution_count": 90,
   "id": "90a13c86",
   "metadata": {},
   "outputs": [
    {
     "data": {
      "text/plain": [
       "array(['Forward charges', 'Forward and RTO charges'], dtype=object)"
      ]
     },
     "execution_count": 90,
     "metadata": {},
     "output_type": "execute_result"
    }
   ],
   "source": [
    "Resultant['Type of Shipment'].unique()"
   ]
  },
  {
   "cell_type": "markdown",
   "id": "09c5d349",
   "metadata": {},
   "source": [
    "## Calculating Delivery Charges"
   ]
  },
  {
   "cell_type": "code",
   "execution_count": 91,
   "id": "b1f3a029",
   "metadata": {},
   "outputs": [],
   "source": [
    "def charge(h,z,a):                   #Function To calculate delivery charges\n",
    "    price=0\n",
    "    string1='fwd_'+z+'_fixed'        #For all orders There is fixed charges,we are calculating rto cost for first 0.5 weigh slab here.\n",
    "    price+=rate[string1][0]\n",
    "    b=a-0.5                      #calculate remaining weight\n",
    "    if  b>=0.5:                  #if there is remaining weight ,it will be atleast 0.5 that's why we used this condition\n",
    "        n=b//0.5                   #remaining weight will be in the multiple of 0.5\n",
    "        string2='fwd_'+z+'_additional'\n",
    "        price+=(n*rate[string2][0])  #if weight is more than 0.5 weigh slab, add additional forward cost here w.r.t the propotion. \n",
    "    if h=='Forward and RTO charges':   #if shipment contains RTO charges, we calculate rto cost for first 0.5 weigh slab.\n",
    "        string3='rto_'+z+'_fixed'\n",
    "        price+=rate[string3][0]\n",
    "        b=a-0.5\n",
    "        if b>=0.5:                       #if there is remaining weight ,it will be atleast 0.5.\n",
    "            n=b//0.5                      #remaining weight will be in the multiple of 0.5\n",
    "            string4='rto_'+z+'_additional'\n",
    "            price+=(n*rate[string4][0])  #if weight is more than 0.5 weigh slab, add additional rto cost here w.r.t the propotion.\n",
    "            \n",
    "    return price\n",
    "\n",
    "Resultant['Expected Charge as per X (Rs.)']=Resultant.apply(lambda x:charge(x['Type of Shipment'],x['Delivery Zone as per X'],x['Weight slab as per X (KG)']),axis=1)"
   ]
  },
  {
   "cell_type": "code",
   "execution_count": 92,
   "id": "1053c742",
   "metadata": {},
   "outputs": [
    {
     "data": {
      "text/html": [
       "<div>\n",
       "<style scoped>\n",
       "    .dataframe tbody tr th:only-of-type {\n",
       "        vertical-align: middle;\n",
       "    }\n",
       "\n",
       "    .dataframe tbody tr th {\n",
       "        vertical-align: top;\n",
       "    }\n",
       "\n",
       "    .dataframe thead th {\n",
       "        text-align: right;\n",
       "    }\n",
       "</style>\n",
       "<table border=\"1\" class=\"dataframe\">\n",
       "  <thead>\n",
       "    <tr style=\"text-align: right;\">\n",
       "      <th></th>\n",
       "      <th>ExternOrderNo</th>\n",
       "      <th>Total weight as per X (KG)</th>\n",
       "      <th>AWB Code</th>\n",
       "      <th>Order ID</th>\n",
       "      <th>Charged Weight</th>\n",
       "      <th>Customer Pincode</th>\n",
       "      <th>Delivery Zone charged by Courier Company</th>\n",
       "      <th>Type of Shipment</th>\n",
       "      <th>Billing Amount (Rs.)</th>\n",
       "      <th>Weight slab as per X (KG)</th>\n",
       "      <th>Weight slab charged by Courier Company (KG)</th>\n",
       "      <th>Delivery Zone as per X</th>\n",
       "      <th>Expected Charge as per X (Rs.)</th>\n",
       "    </tr>\n",
       "  </thead>\n",
       "  <tbody>\n",
       "    <tr>\n",
       "      <th>0</th>\n",
       "      <td>2001806210</td>\n",
       "      <td>0.220</td>\n",
       "      <td>1091117221940</td>\n",
       "      <td>2001806210</td>\n",
       "      <td>2.92</td>\n",
       "      <td>140604</td>\n",
       "      <td>b</td>\n",
       "      <td>Forward charges</td>\n",
       "      <td>174.5</td>\n",
       "      <td>0.5</td>\n",
       "      <td>3.0</td>\n",
       "      <td>b</td>\n",
       "      <td>33.0</td>\n",
       "    </tr>\n",
       "    <tr>\n",
       "      <th>1</th>\n",
       "      <td>2001806226</td>\n",
       "      <td>0.480</td>\n",
       "      <td>1091117222065</td>\n",
       "      <td>2001806226</td>\n",
       "      <td>0.68</td>\n",
       "      <td>723146</td>\n",
       "      <td>d</td>\n",
       "      <td>Forward charges</td>\n",
       "      <td>90.2</td>\n",
       "      <td>0.5</td>\n",
       "      <td>1.0</td>\n",
       "      <td>d</td>\n",
       "      <td>45.4</td>\n",
       "    </tr>\n",
       "    <tr>\n",
       "      <th>2</th>\n",
       "      <td>2001806229</td>\n",
       "      <td>0.500</td>\n",
       "      <td>1091117222080</td>\n",
       "      <td>2001806229</td>\n",
       "      <td>0.71</td>\n",
       "      <td>421204</td>\n",
       "      <td>d</td>\n",
       "      <td>Forward charges</td>\n",
       "      <td>90.2</td>\n",
       "      <td>0.5</td>\n",
       "      <td>1.0</td>\n",
       "      <td>d</td>\n",
       "      <td>45.4</td>\n",
       "    </tr>\n",
       "    <tr>\n",
       "      <th>3</th>\n",
       "      <td>2001806232</td>\n",
       "      <td>1.302</td>\n",
       "      <td>1091117222124</td>\n",
       "      <td>2001806232</td>\n",
       "      <td>1.30</td>\n",
       "      <td>507101</td>\n",
       "      <td>d</td>\n",
       "      <td>Forward charges</td>\n",
       "      <td>135.0</td>\n",
       "      <td>1.5</td>\n",
       "      <td>1.5</td>\n",
       "      <td>d</td>\n",
       "      <td>135.0</td>\n",
       "    </tr>\n",
       "    <tr>\n",
       "      <th>4</th>\n",
       "      <td>2001806233</td>\n",
       "      <td>0.245</td>\n",
       "      <td>1091117222135</td>\n",
       "      <td>2001806233</td>\n",
       "      <td>0.78</td>\n",
       "      <td>263139</td>\n",
       "      <td>b</td>\n",
       "      <td>Forward charges</td>\n",
       "      <td>61.3</td>\n",
       "      <td>0.5</td>\n",
       "      <td>1.0</td>\n",
       "      <td>b</td>\n",
       "      <td>33.0</td>\n",
       "    </tr>\n",
       "  </tbody>\n",
       "</table>\n",
       "</div>"
      ],
      "text/plain": [
       "   ExternOrderNo  Total weight as per X (KG)       AWB Code    Order ID  \\\n",
       "0     2001806210                       0.220  1091117221940  2001806210   \n",
       "1     2001806226                       0.480  1091117222065  2001806226   \n",
       "2     2001806229                       0.500  1091117222080  2001806229   \n",
       "3     2001806232                       1.302  1091117222124  2001806232   \n",
       "4     2001806233                       0.245  1091117222135  2001806233   \n",
       "\n",
       "   Charged Weight  Customer Pincode Delivery Zone charged by Courier Company  \\\n",
       "0            2.92            140604                                        b   \n",
       "1            0.68            723146                                        d   \n",
       "2            0.71            421204                                        d   \n",
       "3            1.30            507101                                        d   \n",
       "4            0.78            263139                                        b   \n",
       "\n",
       "  Type of Shipment  Billing Amount (Rs.)  Weight slab as per X (KG)  \\\n",
       "0  Forward charges                 174.5                        0.5   \n",
       "1  Forward charges                  90.2                        0.5   \n",
       "2  Forward charges                  90.2                        0.5   \n",
       "3  Forward charges                 135.0                        1.5   \n",
       "4  Forward charges                  61.3                        0.5   \n",
       "\n",
       "   Weight slab charged by Courier Company (KG) Delivery Zone as per X  \\\n",
       "0                                          3.0                      b   \n",
       "1                                          1.0                      d   \n",
       "2                                          1.0                      d   \n",
       "3                                          1.5                      d   \n",
       "4                                          1.0                      b   \n",
       "\n",
       "   Expected Charge as per X (Rs.)  \n",
       "0                            33.0  \n",
       "1                            45.4  \n",
       "2                            45.4  \n",
       "3                           135.0  \n",
       "4                            33.0  "
      ]
     },
     "execution_count": 92,
     "metadata": {},
     "output_type": "execute_result"
    }
   ],
   "source": [
    "Resultant.head()"
   ]
  },
  {
   "cell_type": "code",
   "execution_count": 93,
   "id": "4baaf7b6",
   "metadata": {},
   "outputs": [],
   "source": [
    "Resultant.rename(columns={'Billing Amount (Rs.)':'Charges Billed by Courier Company (Rs.)'},inplace=True)"
   ]
  },
  {
   "cell_type": "code",
   "execution_count": 94,
   "id": "2c411342",
   "metadata": {},
   "outputs": [
    {
     "data": {
      "text/html": [
       "<div>\n",
       "<style scoped>\n",
       "    .dataframe tbody tr th:only-of-type {\n",
       "        vertical-align: middle;\n",
       "    }\n",
       "\n",
       "    .dataframe tbody tr th {\n",
       "        vertical-align: top;\n",
       "    }\n",
       "\n",
       "    .dataframe thead th {\n",
       "        text-align: right;\n",
       "    }\n",
       "</style>\n",
       "<table border=\"1\" class=\"dataframe\">\n",
       "  <thead>\n",
       "    <tr style=\"text-align: right;\">\n",
       "      <th></th>\n",
       "      <th>ExternOrderNo</th>\n",
       "      <th>Total weight as per X (KG)</th>\n",
       "      <th>AWB Code</th>\n",
       "      <th>Order ID</th>\n",
       "      <th>Charged Weight</th>\n",
       "      <th>Customer Pincode</th>\n",
       "      <th>Delivery Zone charged by Courier Company</th>\n",
       "      <th>Type of Shipment</th>\n",
       "      <th>Charges Billed by Courier Company (Rs.)</th>\n",
       "      <th>Weight slab as per X (KG)</th>\n",
       "      <th>Weight slab charged by Courier Company (KG)</th>\n",
       "      <th>Delivery Zone as per X</th>\n",
       "      <th>Expected Charge as per X (Rs.)</th>\n",
       "    </tr>\n",
       "  </thead>\n",
       "  <tbody>\n",
       "    <tr>\n",
       "      <th>0</th>\n",
       "      <td>2001806210</td>\n",
       "      <td>0.220</td>\n",
       "      <td>1091117221940</td>\n",
       "      <td>2001806210</td>\n",
       "      <td>2.92</td>\n",
       "      <td>140604</td>\n",
       "      <td>b</td>\n",
       "      <td>Forward charges</td>\n",
       "      <td>174.5</td>\n",
       "      <td>0.5</td>\n",
       "      <td>3.0</td>\n",
       "      <td>b</td>\n",
       "      <td>33.0</td>\n",
       "    </tr>\n",
       "    <tr>\n",
       "      <th>1</th>\n",
       "      <td>2001806226</td>\n",
       "      <td>0.480</td>\n",
       "      <td>1091117222065</td>\n",
       "      <td>2001806226</td>\n",
       "      <td>0.68</td>\n",
       "      <td>723146</td>\n",
       "      <td>d</td>\n",
       "      <td>Forward charges</td>\n",
       "      <td>90.2</td>\n",
       "      <td>0.5</td>\n",
       "      <td>1.0</td>\n",
       "      <td>d</td>\n",
       "      <td>45.4</td>\n",
       "    </tr>\n",
       "    <tr>\n",
       "      <th>2</th>\n",
       "      <td>2001806229</td>\n",
       "      <td>0.500</td>\n",
       "      <td>1091117222080</td>\n",
       "      <td>2001806229</td>\n",
       "      <td>0.71</td>\n",
       "      <td>421204</td>\n",
       "      <td>d</td>\n",
       "      <td>Forward charges</td>\n",
       "      <td>90.2</td>\n",
       "      <td>0.5</td>\n",
       "      <td>1.0</td>\n",
       "      <td>d</td>\n",
       "      <td>45.4</td>\n",
       "    </tr>\n",
       "    <tr>\n",
       "      <th>3</th>\n",
       "      <td>2001806232</td>\n",
       "      <td>1.302</td>\n",
       "      <td>1091117222124</td>\n",
       "      <td>2001806232</td>\n",
       "      <td>1.30</td>\n",
       "      <td>507101</td>\n",
       "      <td>d</td>\n",
       "      <td>Forward charges</td>\n",
       "      <td>135.0</td>\n",
       "      <td>1.5</td>\n",
       "      <td>1.5</td>\n",
       "      <td>d</td>\n",
       "      <td>135.0</td>\n",
       "    </tr>\n",
       "    <tr>\n",
       "      <th>4</th>\n",
       "      <td>2001806233</td>\n",
       "      <td>0.245</td>\n",
       "      <td>1091117222135</td>\n",
       "      <td>2001806233</td>\n",
       "      <td>0.78</td>\n",
       "      <td>263139</td>\n",
       "      <td>b</td>\n",
       "      <td>Forward charges</td>\n",
       "      <td>61.3</td>\n",
       "      <td>0.5</td>\n",
       "      <td>1.0</td>\n",
       "      <td>b</td>\n",
       "      <td>33.0</td>\n",
       "    </tr>\n",
       "  </tbody>\n",
       "</table>\n",
       "</div>"
      ],
      "text/plain": [
       "   ExternOrderNo  Total weight as per X (KG)       AWB Code    Order ID  \\\n",
       "0     2001806210                       0.220  1091117221940  2001806210   \n",
       "1     2001806226                       0.480  1091117222065  2001806226   \n",
       "2     2001806229                       0.500  1091117222080  2001806229   \n",
       "3     2001806232                       1.302  1091117222124  2001806232   \n",
       "4     2001806233                       0.245  1091117222135  2001806233   \n",
       "\n",
       "   Charged Weight  Customer Pincode Delivery Zone charged by Courier Company  \\\n",
       "0            2.92            140604                                        b   \n",
       "1            0.68            723146                                        d   \n",
       "2            0.71            421204                                        d   \n",
       "3            1.30            507101                                        d   \n",
       "4            0.78            263139                                        b   \n",
       "\n",
       "  Type of Shipment  Charges Billed by Courier Company (Rs.)  \\\n",
       "0  Forward charges                                    174.5   \n",
       "1  Forward charges                                     90.2   \n",
       "2  Forward charges                                     90.2   \n",
       "3  Forward charges                                    135.0   \n",
       "4  Forward charges                                     61.3   \n",
       "\n",
       "   Weight slab as per X (KG)  Weight slab charged by Courier Company (KG)  \\\n",
       "0                        0.5                                          3.0   \n",
       "1                        0.5                                          1.0   \n",
       "2                        0.5                                          1.0   \n",
       "3                        1.5                                          1.5   \n",
       "4                        0.5                                          1.0   \n",
       "\n",
       "  Delivery Zone as per X  Expected Charge as per X (Rs.)  \n",
       "0                      b                            33.0  \n",
       "1                      d                            45.4  \n",
       "2                      d                            45.4  \n",
       "3                      d                           135.0  \n",
       "4                      b                            33.0  "
      ]
     },
     "execution_count": 94,
     "metadata": {},
     "output_type": "execute_result"
    }
   ],
   "source": [
    "Resultant.head()"
   ]
  },
  {
   "cell_type": "code",
   "execution_count": 95,
   "id": "e8942adf",
   "metadata": {},
   "outputs": [],
   "source": [
    "Resultant['Difference Between Expected Charges and Billed Charges (Rs.)']=Resultant['Expected Charge as per X (Rs.)']-Resultant['Charges Billed by Courier Company (Rs.)']"
   ]
  },
  {
   "cell_type": "code",
   "execution_count": 96,
   "id": "e8ac1f65",
   "metadata": {},
   "outputs": [
    {
     "data": {
      "text/html": [
       "<div>\n",
       "<style scoped>\n",
       "    .dataframe tbody tr th:only-of-type {\n",
       "        vertical-align: middle;\n",
       "    }\n",
       "\n",
       "    .dataframe tbody tr th {\n",
       "        vertical-align: top;\n",
       "    }\n",
       "\n",
       "    .dataframe thead th {\n",
       "        text-align: right;\n",
       "    }\n",
       "</style>\n",
       "<table border=\"1\" class=\"dataframe\">\n",
       "  <thead>\n",
       "    <tr style=\"text-align: right;\">\n",
       "      <th></th>\n",
       "      <th>ExternOrderNo</th>\n",
       "      <th>Total weight as per X (KG)</th>\n",
       "      <th>AWB Code</th>\n",
       "      <th>Order ID</th>\n",
       "      <th>Charged Weight</th>\n",
       "      <th>Customer Pincode</th>\n",
       "      <th>Delivery Zone charged by Courier Company</th>\n",
       "      <th>Type of Shipment</th>\n",
       "      <th>Charges Billed by Courier Company (Rs.)</th>\n",
       "      <th>Weight slab as per X (KG)</th>\n",
       "      <th>Weight slab charged by Courier Company (KG)</th>\n",
       "      <th>Delivery Zone as per X</th>\n",
       "      <th>Expected Charge as per X (Rs.)</th>\n",
       "      <th>Difference Between Expected Charges and Billed Charges (Rs.)</th>\n",
       "    </tr>\n",
       "  </thead>\n",
       "  <tbody>\n",
       "    <tr>\n",
       "      <th>0</th>\n",
       "      <td>2001806210</td>\n",
       "      <td>0.220</td>\n",
       "      <td>1091117221940</td>\n",
       "      <td>2001806210</td>\n",
       "      <td>2.92</td>\n",
       "      <td>140604</td>\n",
       "      <td>b</td>\n",
       "      <td>Forward charges</td>\n",
       "      <td>174.5</td>\n",
       "      <td>0.5</td>\n",
       "      <td>3.0</td>\n",
       "      <td>b</td>\n",
       "      <td>33.0</td>\n",
       "      <td>-141.5</td>\n",
       "    </tr>\n",
       "    <tr>\n",
       "      <th>1</th>\n",
       "      <td>2001806226</td>\n",
       "      <td>0.480</td>\n",
       "      <td>1091117222065</td>\n",
       "      <td>2001806226</td>\n",
       "      <td>0.68</td>\n",
       "      <td>723146</td>\n",
       "      <td>d</td>\n",
       "      <td>Forward charges</td>\n",
       "      <td>90.2</td>\n",
       "      <td>0.5</td>\n",
       "      <td>1.0</td>\n",
       "      <td>d</td>\n",
       "      <td>45.4</td>\n",
       "      <td>-44.8</td>\n",
       "    </tr>\n",
       "    <tr>\n",
       "      <th>2</th>\n",
       "      <td>2001806229</td>\n",
       "      <td>0.500</td>\n",
       "      <td>1091117222080</td>\n",
       "      <td>2001806229</td>\n",
       "      <td>0.71</td>\n",
       "      <td>421204</td>\n",
       "      <td>d</td>\n",
       "      <td>Forward charges</td>\n",
       "      <td>90.2</td>\n",
       "      <td>0.5</td>\n",
       "      <td>1.0</td>\n",
       "      <td>d</td>\n",
       "      <td>45.4</td>\n",
       "      <td>-44.8</td>\n",
       "    </tr>\n",
       "    <tr>\n",
       "      <th>3</th>\n",
       "      <td>2001806232</td>\n",
       "      <td>1.302</td>\n",
       "      <td>1091117222124</td>\n",
       "      <td>2001806232</td>\n",
       "      <td>1.30</td>\n",
       "      <td>507101</td>\n",
       "      <td>d</td>\n",
       "      <td>Forward charges</td>\n",
       "      <td>135.0</td>\n",
       "      <td>1.5</td>\n",
       "      <td>1.5</td>\n",
       "      <td>d</td>\n",
       "      <td>135.0</td>\n",
       "      <td>0.0</td>\n",
       "    </tr>\n",
       "    <tr>\n",
       "      <th>4</th>\n",
       "      <td>2001806233</td>\n",
       "      <td>0.245</td>\n",
       "      <td>1091117222135</td>\n",
       "      <td>2001806233</td>\n",
       "      <td>0.78</td>\n",
       "      <td>263139</td>\n",
       "      <td>b</td>\n",
       "      <td>Forward charges</td>\n",
       "      <td>61.3</td>\n",
       "      <td>0.5</td>\n",
       "      <td>1.0</td>\n",
       "      <td>b</td>\n",
       "      <td>33.0</td>\n",
       "      <td>-28.3</td>\n",
       "    </tr>\n",
       "  </tbody>\n",
       "</table>\n",
       "</div>"
      ],
      "text/plain": [
       "   ExternOrderNo  Total weight as per X (KG)       AWB Code    Order ID  \\\n",
       "0     2001806210                       0.220  1091117221940  2001806210   \n",
       "1     2001806226                       0.480  1091117222065  2001806226   \n",
       "2     2001806229                       0.500  1091117222080  2001806229   \n",
       "3     2001806232                       1.302  1091117222124  2001806232   \n",
       "4     2001806233                       0.245  1091117222135  2001806233   \n",
       "\n",
       "   Charged Weight  Customer Pincode Delivery Zone charged by Courier Company  \\\n",
       "0            2.92            140604                                        b   \n",
       "1            0.68            723146                                        d   \n",
       "2            0.71            421204                                        d   \n",
       "3            1.30            507101                                        d   \n",
       "4            0.78            263139                                        b   \n",
       "\n",
       "  Type of Shipment  Charges Billed by Courier Company (Rs.)  \\\n",
       "0  Forward charges                                    174.5   \n",
       "1  Forward charges                                     90.2   \n",
       "2  Forward charges                                     90.2   \n",
       "3  Forward charges                                    135.0   \n",
       "4  Forward charges                                     61.3   \n",
       "\n",
       "   Weight slab as per X (KG)  Weight slab charged by Courier Company (KG)  \\\n",
       "0                        0.5                                          3.0   \n",
       "1                        0.5                                          1.0   \n",
       "2                        0.5                                          1.0   \n",
       "3                        1.5                                          1.5   \n",
       "4                        0.5                                          1.0   \n",
       "\n",
       "  Delivery Zone as per X  Expected Charge as per X (Rs.)  \\\n",
       "0                      b                            33.0   \n",
       "1                      d                            45.4   \n",
       "2                      d                            45.4   \n",
       "3                      d                           135.0   \n",
       "4                      b                            33.0   \n",
       "\n",
       "   Difference Between Expected Charges and Billed Charges (Rs.)  \n",
       "0                                             -141.5             \n",
       "1                                              -44.8             \n",
       "2                                              -44.8             \n",
       "3                                                0.0             \n",
       "4                                              -28.3             "
      ]
     },
     "execution_count": 96,
     "metadata": {},
     "output_type": "execute_result"
    }
   ],
   "source": [
    "Resultant.head()"
   ]
  },
  {
   "cell_type": "markdown",
   "id": "075cc7b5",
   "metadata": {},
   "source": [
    "#### Dropping Unneccessary columns,renaming some columns"
   ]
  },
  {
   "cell_type": "code",
   "execution_count": 97,
   "id": "5721f71f",
   "metadata": {},
   "outputs": [
    {
     "data": {
      "text/html": [
       "<div>\n",
       "<style scoped>\n",
       "    .dataframe tbody tr th:only-of-type {\n",
       "        vertical-align: middle;\n",
       "    }\n",
       "\n",
       "    .dataframe tbody tr th {\n",
       "        vertical-align: top;\n",
       "    }\n",
       "\n",
       "    .dataframe thead th {\n",
       "        text-align: right;\n",
       "    }\n",
       "</style>\n",
       "<table border=\"1\" class=\"dataframe\">\n",
       "  <thead>\n",
       "    <tr style=\"text-align: right;\">\n",
       "      <th></th>\n",
       "      <th>Total weight as per X (KG)</th>\n",
       "      <th>AWB Number</th>\n",
       "      <th>Order ID</th>\n",
       "      <th>Total weight as per Courier Company (KG)</th>\n",
       "      <th>Delivery Zone charged by Courier Company</th>\n",
       "      <th>Type of Shipment</th>\n",
       "      <th>Charges Billed by Courier Company (Rs.)</th>\n",
       "      <th>Weight slab as per X (KG)</th>\n",
       "      <th>Weight slab charged by Courier Company (KG)</th>\n",
       "      <th>Delivery Zone as per X</th>\n",
       "      <th>Expected Charge as per X (Rs.)</th>\n",
       "      <th>Difference Between Expected Charges and Billed Charges (Rs.)</th>\n",
       "    </tr>\n",
       "  </thead>\n",
       "  <tbody>\n",
       "    <tr>\n",
       "      <th>0</th>\n",
       "      <td>0.220</td>\n",
       "      <td>1091117221940</td>\n",
       "      <td>2001806210</td>\n",
       "      <td>2.92</td>\n",
       "      <td>b</td>\n",
       "      <td>Forward charges</td>\n",
       "      <td>174.5</td>\n",
       "      <td>0.5</td>\n",
       "      <td>3.0</td>\n",
       "      <td>b</td>\n",
       "      <td>33.0</td>\n",
       "      <td>-141.5</td>\n",
       "    </tr>\n",
       "    <tr>\n",
       "      <th>1</th>\n",
       "      <td>0.480</td>\n",
       "      <td>1091117222065</td>\n",
       "      <td>2001806226</td>\n",
       "      <td>0.68</td>\n",
       "      <td>d</td>\n",
       "      <td>Forward charges</td>\n",
       "      <td>90.2</td>\n",
       "      <td>0.5</td>\n",
       "      <td>1.0</td>\n",
       "      <td>d</td>\n",
       "      <td>45.4</td>\n",
       "      <td>-44.8</td>\n",
       "    </tr>\n",
       "    <tr>\n",
       "      <th>2</th>\n",
       "      <td>0.500</td>\n",
       "      <td>1091117222080</td>\n",
       "      <td>2001806229</td>\n",
       "      <td>0.71</td>\n",
       "      <td>d</td>\n",
       "      <td>Forward charges</td>\n",
       "      <td>90.2</td>\n",
       "      <td>0.5</td>\n",
       "      <td>1.0</td>\n",
       "      <td>d</td>\n",
       "      <td>45.4</td>\n",
       "      <td>-44.8</td>\n",
       "    </tr>\n",
       "    <tr>\n",
       "      <th>3</th>\n",
       "      <td>1.302</td>\n",
       "      <td>1091117222124</td>\n",
       "      <td>2001806232</td>\n",
       "      <td>1.30</td>\n",
       "      <td>d</td>\n",
       "      <td>Forward charges</td>\n",
       "      <td>135.0</td>\n",
       "      <td>1.5</td>\n",
       "      <td>1.5</td>\n",
       "      <td>d</td>\n",
       "      <td>135.0</td>\n",
       "      <td>0.0</td>\n",
       "    </tr>\n",
       "    <tr>\n",
       "      <th>4</th>\n",
       "      <td>0.245</td>\n",
       "      <td>1091117222135</td>\n",
       "      <td>2001806233</td>\n",
       "      <td>0.78</td>\n",
       "      <td>b</td>\n",
       "      <td>Forward charges</td>\n",
       "      <td>61.3</td>\n",
       "      <td>0.5</td>\n",
       "      <td>1.0</td>\n",
       "      <td>b</td>\n",
       "      <td>33.0</td>\n",
       "      <td>-28.3</td>\n",
       "    </tr>\n",
       "  </tbody>\n",
       "</table>\n",
       "</div>"
      ],
      "text/plain": [
       "   Total weight as per X (KG)     AWB Number    Order ID  \\\n",
       "0                       0.220  1091117221940  2001806210   \n",
       "1                       0.480  1091117222065  2001806226   \n",
       "2                       0.500  1091117222080  2001806229   \n",
       "3                       1.302  1091117222124  2001806232   \n",
       "4                       0.245  1091117222135  2001806233   \n",
       "\n",
       "   Total weight as per Courier Company (KG)  \\\n",
       "0                                      2.92   \n",
       "1                                      0.68   \n",
       "2                                      0.71   \n",
       "3                                      1.30   \n",
       "4                                      0.78   \n",
       "\n",
       "  Delivery Zone charged by Courier Company Type of Shipment  \\\n",
       "0                                        b  Forward charges   \n",
       "1                                        d  Forward charges   \n",
       "2                                        d  Forward charges   \n",
       "3                                        d  Forward charges   \n",
       "4                                        b  Forward charges   \n",
       "\n",
       "   Charges Billed by Courier Company (Rs.)  Weight slab as per X (KG)  \\\n",
       "0                                    174.5                        0.5   \n",
       "1                                     90.2                        0.5   \n",
       "2                                     90.2                        0.5   \n",
       "3                                    135.0                        1.5   \n",
       "4                                     61.3                        0.5   \n",
       "\n",
       "   Weight slab charged by Courier Company (KG) Delivery Zone as per X  \\\n",
       "0                                          3.0                      b   \n",
       "1                                          1.0                      d   \n",
       "2                                          1.0                      d   \n",
       "3                                          1.5                      d   \n",
       "4                                          1.0                      b   \n",
       "\n",
       "   Expected Charge as per X (Rs.)  \\\n",
       "0                            33.0   \n",
       "1                            45.4   \n",
       "2                            45.4   \n",
       "3                           135.0   \n",
       "4                            33.0   \n",
       "\n",
       "   Difference Between Expected Charges and Billed Charges (Rs.)  \n",
       "0                                             -141.5             \n",
       "1                                              -44.8             \n",
       "2                                              -44.8             \n",
       "3                                                0.0             \n",
       "4                                              -28.3             "
      ]
     },
     "execution_count": 97,
     "metadata": {},
     "output_type": "execute_result"
    }
   ],
   "source": [
    "Resultant.drop(columns=['ExternOrderNo','Customer Pincode'],inplace=True)\n",
    "Resultant.rename(columns={'AWB Code':'AWB Number','Charged Weight':'Total weight as per Courier Company (KG)'},inplace=True)\n",
    "Resultant.head()"
   ]
  },
  {
   "cell_type": "markdown",
   "id": "0d4cc3f6",
   "metadata": {},
   "source": [
    "#### Rearranging columns"
   ]
  },
  {
   "cell_type": "code",
   "execution_count": 98,
   "id": "e5625020",
   "metadata": {
    "scrolled": true
   },
   "outputs": [
    {
     "data": {
      "text/html": [
       "<div>\n",
       "<style scoped>\n",
       "    .dataframe tbody tr th:only-of-type {\n",
       "        vertical-align: middle;\n",
       "    }\n",
       "\n",
       "    .dataframe tbody tr th {\n",
       "        vertical-align: top;\n",
       "    }\n",
       "\n",
       "    .dataframe thead th {\n",
       "        text-align: right;\n",
       "    }\n",
       "</style>\n",
       "<table border=\"1\" class=\"dataframe\">\n",
       "  <thead>\n",
       "    <tr style=\"text-align: right;\">\n",
       "      <th></th>\n",
       "      <th>Order ID</th>\n",
       "      <th>AWB Number</th>\n",
       "      <th>Total weight as per X (KG)</th>\n",
       "      <th>Weight slab as per X (KG)</th>\n",
       "      <th>Total weight as per Courier Company (KG)</th>\n",
       "      <th>Weight slab charged by Courier Company (KG)</th>\n",
       "      <th>Delivery Zone as per X</th>\n",
       "      <th>Delivery Zone charged by Courier Company</th>\n",
       "      <th>Expected Charge as per X (Rs.)</th>\n",
       "      <th>Charges Billed by Courier Company (Rs.)</th>\n",
       "      <th>Difference Between Expected Charges and Billed Charges (Rs.)</th>\n",
       "    </tr>\n",
       "  </thead>\n",
       "  <tbody>\n",
       "    <tr>\n",
       "      <th>0</th>\n",
       "      <td>2001806210</td>\n",
       "      <td>1091117221940</td>\n",
       "      <td>0.220</td>\n",
       "      <td>0.5</td>\n",
       "      <td>2.92</td>\n",
       "      <td>3.0</td>\n",
       "      <td>b</td>\n",
       "      <td>b</td>\n",
       "      <td>33.0</td>\n",
       "      <td>174.5</td>\n",
       "      <td>-141.5</td>\n",
       "    </tr>\n",
       "    <tr>\n",
       "      <th>1</th>\n",
       "      <td>2001806226</td>\n",
       "      <td>1091117222065</td>\n",
       "      <td>0.480</td>\n",
       "      <td>0.5</td>\n",
       "      <td>0.68</td>\n",
       "      <td>1.0</td>\n",
       "      <td>d</td>\n",
       "      <td>d</td>\n",
       "      <td>45.4</td>\n",
       "      <td>90.2</td>\n",
       "      <td>-44.8</td>\n",
       "    </tr>\n",
       "    <tr>\n",
       "      <th>2</th>\n",
       "      <td>2001806229</td>\n",
       "      <td>1091117222080</td>\n",
       "      <td>0.500</td>\n",
       "      <td>0.5</td>\n",
       "      <td>0.71</td>\n",
       "      <td>1.0</td>\n",
       "      <td>d</td>\n",
       "      <td>d</td>\n",
       "      <td>45.4</td>\n",
       "      <td>90.2</td>\n",
       "      <td>-44.8</td>\n",
       "    </tr>\n",
       "    <tr>\n",
       "      <th>3</th>\n",
       "      <td>2001806232</td>\n",
       "      <td>1091117222124</td>\n",
       "      <td>1.302</td>\n",
       "      <td>1.5</td>\n",
       "      <td>1.30</td>\n",
       "      <td>1.5</td>\n",
       "      <td>d</td>\n",
       "      <td>d</td>\n",
       "      <td>135.0</td>\n",
       "      <td>135.0</td>\n",
       "      <td>0.0</td>\n",
       "    </tr>\n",
       "    <tr>\n",
       "      <th>4</th>\n",
       "      <td>2001806233</td>\n",
       "      <td>1091117222135</td>\n",
       "      <td>0.245</td>\n",
       "      <td>0.5</td>\n",
       "      <td>0.78</td>\n",
       "      <td>1.0</td>\n",
       "      <td>b</td>\n",
       "      <td>b</td>\n",
       "      <td>33.0</td>\n",
       "      <td>61.3</td>\n",
       "      <td>-28.3</td>\n",
       "    </tr>\n",
       "  </tbody>\n",
       "</table>\n",
       "</div>"
      ],
      "text/plain": [
       "     Order ID     AWB Number  Total weight as per X (KG)  \\\n",
       "0  2001806210  1091117221940                       0.220   \n",
       "1  2001806226  1091117222065                       0.480   \n",
       "2  2001806229  1091117222080                       0.500   \n",
       "3  2001806232  1091117222124                       1.302   \n",
       "4  2001806233  1091117222135                       0.245   \n",
       "\n",
       "   Weight slab as per X (KG)  Total weight as per Courier Company (KG)  \\\n",
       "0                        0.5                                      2.92   \n",
       "1                        0.5                                      0.68   \n",
       "2                        0.5                                      0.71   \n",
       "3                        1.5                                      1.30   \n",
       "4                        0.5                                      0.78   \n",
       "\n",
       "   Weight slab charged by Courier Company (KG) Delivery Zone as per X  \\\n",
       "0                                          3.0                      b   \n",
       "1                                          1.0                      d   \n",
       "2                                          1.0                      d   \n",
       "3                                          1.5                      d   \n",
       "4                                          1.0                      b   \n",
       "\n",
       "  Delivery Zone charged by Courier Company  Expected Charge as per X (Rs.)  \\\n",
       "0                                        b                            33.0   \n",
       "1                                        d                            45.4   \n",
       "2                                        d                            45.4   \n",
       "3                                        d                           135.0   \n",
       "4                                        b                            33.0   \n",
       "\n",
       "   Charges Billed by Courier Company (Rs.)  \\\n",
       "0                                    174.5   \n",
       "1                                     90.2   \n",
       "2                                     90.2   \n",
       "3                                    135.0   \n",
       "4                                     61.3   \n",
       "\n",
       "   Difference Between Expected Charges and Billed Charges (Rs.)  \n",
       "0                                             -141.5             \n",
       "1                                              -44.8             \n",
       "2                                              -44.8             \n",
       "3                                                0.0             \n",
       "4                                              -28.3             "
      ]
     },
     "execution_count": 98,
     "metadata": {},
     "output_type": "execute_result"
    }
   ],
   "source": [
    "Resultant=Resultant.iloc[:,[2,1,0,7,3,8,9,4,10,6,11]]\n",
    "Resultant.head()"
   ]
  },
  {
   "cell_type": "markdown",
   "id": "83ecf00f",
   "metadata": {},
   "source": [
    "## Summary Table"
   ]
  },
  {
   "cell_type": "code",
   "execution_count": 99,
   "id": "3bf733ce",
   "metadata": {},
   "outputs": [
    {
     "name": "stdout",
     "output_type": "stream",
     "text": [
      "1207.3\n",
      "4483.199999999999\n",
      "575.0999999999999\n"
     ]
    },
    {
     "data": {
      "text/html": [
       "<div>\n",
       "<style scoped>\n",
       "    .dataframe tbody tr th:only-of-type {\n",
       "        vertical-align: middle;\n",
       "    }\n",
       "\n",
       "    .dataframe tbody tr th {\n",
       "        vertical-align: top;\n",
       "    }\n",
       "\n",
       "    .dataframe thead th {\n",
       "        text-align: right;\n",
       "    }\n",
       "</style>\n",
       "<table border=\"1\" class=\"dataframe\">\n",
       "  <thead>\n",
       "    <tr style=\"text-align: right;\">\n",
       "      <th></th>\n",
       "      <th>Count</th>\n",
       "      <th>Amount (Rs.)</th>\n",
       "    </tr>\n",
       "  </thead>\n",
       "  <tbody>\n",
       "    <tr>\n",
       "      <th>Total orders where X has been correctly charged</th>\n",
       "      <td>15</td>\n",
       "      <td>1207.3</td>\n",
       "    </tr>\n",
       "    <tr>\n",
       "      <th>Total Orders where X has been overcharged</th>\n",
       "      <td>85</td>\n",
       "      <td>4483.2</td>\n",
       "    </tr>\n",
       "    <tr>\n",
       "      <th>Total Orders where X has been undercharged</th>\n",
       "      <td>24</td>\n",
       "      <td>575.1</td>\n",
       "    </tr>\n",
       "  </tbody>\n",
       "</table>\n",
       "</div>"
      ],
      "text/plain": [
       "                                                 Count  Amount (Rs.)\n",
       "Total orders where X has been correctly charged     15        1207.3\n",
       "Total Orders where X has been overcharged           85        4483.2\n",
       "Total Orders where X has been undercharged          24         575.1"
      ]
     },
     "execution_count": 99,
     "metadata": {},
     "output_type": "execute_result"
    }
   ],
   "source": [
    "count1=Resultant[Resultant['Difference Between Expected Charges and Billed Charges (Rs.)']==0].shape[0]\n",
    "count2=Resultant[Resultant['Difference Between Expected Charges and Billed Charges (Rs.)']<0].shape[0]\n",
    "count3=Resultant[Resultant['Difference Between Expected Charges and Billed Charges (Rs.)']>0].shape[0]\n",
    "\n",
    "total_invoice_amount=Resultant.loc[Resultant['Difference Between Expected Charges and Billed Charges (Rs.)']==0,'Charges Billed by Courier Company (Rs.)'].sum()\n",
    "\n",
    "total_overcharging_amount=Resultant.loc[Resultant['Difference Between Expected Charges and Billed Charges (Rs.)']<0,'Difference Between Expected Charges and Billed Charges (Rs.)'].sum()\n",
    "total_undercharging_amount=Resultant.loc[Resultant['Difference Between Expected Charges and Billed Charges (Rs.)']>0,'Difference Between Expected Charges and Billed Charges (Rs.)'].sum()\n",
    "\n",
    "total_overcharging_amount=abs(total_overcharging_amount)\n",
    "print(total_invoice_amount)\n",
    "print(total_overcharging_amount)\n",
    "print(total_undercharging_amount)\n",
    "\n",
    "Count_data=[count1,count2,count3]\n",
    "Amount_data=[total_invoice_amount,total_overcharging_amount,total_undercharging_amount]\n",
    "labels=['Total orders where X has been correctly charged','Total Orders where X has been overcharged','Total Orders where X has been undercharged']\n",
    "\n",
    "summary=pd.DataFrame(data={'Count':Count_data,'Amount (Rs.)':Amount_data},index=labels)\n",
    "summary"
   ]
  },
  {
   "cell_type": "markdown",
   "id": "e4519506",
   "metadata": {},
   "source": [
    "## Storing Results in Excel Workbooks"
   ]
  },
  {
   "cell_type": "code",
   "execution_count": 100,
   "id": "322ed4b7",
   "metadata": {},
   "outputs": [],
   "source": [
    "writer = pd.ExcelWriter('Final Results.xlsx', engine='xlsxwriter')\n",
    "Resultant.to_excel(writer, sheet_name='Order level calculation',index=False,columns=Resultant.columns)\n",
    "summary.to_excel(writer, sheet_name='Summary')\n",
    "\n",
    "worksheet1 = writer.sheets['Order level calculation']\n",
    "worksheet1.set_column('A:B', 20)          #changing width of certain columns of excel sheet\n",
    "worksheet1.set_column('C:M', 40)\n",
    "\n",
    "worksheet2 = writer.sheets['Summary']\n",
    "worksheet2.set_column('A:A', 50)\n",
    "worksheet2.set_column('B:C',13)\n",
    "\n",
    "\n",
    "writer.save()"
   ]
  },
  {
   "cell_type": "code",
   "execution_count": null,
   "id": "8f4e0bb5",
   "metadata": {},
   "outputs": [],
   "source": []
  }
 ],
 "metadata": {
  "hide_input": false,
  "kernelspec": {
   "display_name": "Python 3 (ipykernel)",
   "language": "python",
   "name": "python3"
  },
  "language_info": {
   "codemirror_mode": {
    "name": "ipython",
    "version": 3
   },
   "file_extension": ".py",
   "mimetype": "text/x-python",
   "name": "python",
   "nbconvert_exporter": "python",
   "pygments_lexer": "ipython3",
   "version": "3.9.13"
  }
 },
 "nbformat": 4,
 "nbformat_minor": 5
}
